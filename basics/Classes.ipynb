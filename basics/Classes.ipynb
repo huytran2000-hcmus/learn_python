{
 "cells": [
  {
   "cell_type": "markdown",
   "metadata": {},
   "source": [
    "# Class Definition\n"
   ]
  },
  {
   "cell_type": "markdown",
   "metadata": {},
   "source": [
    "When a class definition is entered, a new namespace is created.\\\n",
    "All varible and function definitions bind the name to this new namespace.\n"
   ]
  },
  {
   "cell_type": "markdown",
   "metadata": {},
   "source": [
    "When a class definition is exited, a `class` object is created.\\\n",
    "And this `class` object is bound to the previous local scope by the name of the class.\n"
   ]
  },
  {
   "cell_type": "code",
   "execution_count": 1,
   "metadata": {},
   "outputs": [],
   "source": [
    "class ClassName:\n",
    "    pass"
   ]
  },
  {
   "cell_type": "code",
   "execution_count": 37,
   "metadata": {},
   "outputs": [
    {
     "data": {
      "text/plain": [
       "__main__.ClassName"
      ]
     },
     "execution_count": 37,
     "metadata": {},
     "output_type": "execute_result"
    }
   ],
   "source": [
    "ClassName"
   ]
  },
  {
   "cell_type": "markdown",
   "metadata": {},
   "source": [
    "# Class Objects\n"
   ]
  },
  {
   "cell_type": "markdown",
   "metadata": {},
   "source": [
    "`class` object support only two types of operations:\n",
    "\n",
    "- Attribute references\n",
    "- Instantiation\n"
   ]
  },
  {
   "cell_type": "code",
   "execution_count": 8,
   "metadata": {},
   "outputs": [],
   "source": [
    "class MyClass:\n",
    "    i = 1\n",
    "\n",
    "    def foo(self):\n",
    "        return 'Hello world!'"
   ]
  },
  {
   "cell_type": "markdown",
   "metadata": {},
   "source": [
    "To instantiate use function notion.\n"
   ]
  },
  {
   "cell_type": "code",
   "execution_count": 9,
   "metadata": {},
   "outputs": [],
   "source": [
    "cls = MyClass()\n"
   ]
  },
  {
   "cell_type": "markdown",
   "metadata": {},
   "source": [
    "Attribute references use standard syntax used for all attribute references in **Python**: `obj.name`.\n"
   ]
  },
  {
   "cell_type": "code",
   "execution_count": 16,
   "metadata": {},
   "outputs": [
    {
     "data": {
      "text/plain": [
       "1"
      ]
     },
     "execution_count": 16,
     "metadata": {},
     "output_type": "execute_result"
    }
   ],
   "source": [
    "MyClass.i"
   ]
  },
  {
   "cell_type": "code",
   "execution_count": 18,
   "metadata": {},
   "outputs": [
    {
     "data": {
      "text/plain": [
       "<function __main__.MyClass.foo(self)>"
      ]
     },
     "execution_count": 18,
     "metadata": {},
     "output_type": "execute_result"
    }
   ],
   "source": [
    "MyClass.foo"
   ]
  },
  {
   "cell_type": "markdown",
   "metadata": {},
   "source": [
    "To create objects with specific initial state, defines a special method `__init__()`.\n"
   ]
  },
  {
   "cell_type": "code",
   "execution_count": 12,
   "metadata": {},
   "outputs": [],
   "source": [
    "class Complex:\n",
    "\n",
    "    def __init__(self, real, img):\n",
    "        self.r = real\n",
    "        self.i = img\n"
   ]
  },
  {
   "cell_type": "code",
   "execution_count": 13,
   "metadata": {},
   "outputs": [],
   "source": [
    "x = Complex(1, -1)"
   ]
  },
  {
   "cell_type": "code",
   "execution_count": 14,
   "metadata": {},
   "outputs": [
    {
     "data": {
      "text/plain": [
       "1"
      ]
     },
     "execution_count": 14,
     "metadata": {},
     "output_type": "execute_result"
    }
   ],
   "source": [
    "x.r"
   ]
  },
  {
   "cell_type": "code",
   "execution_count": 15,
   "metadata": {},
   "outputs": [
    {
     "data": {
      "text/plain": [
       "-1"
      ]
     },
     "execution_count": 15,
     "metadata": {},
     "output_type": "execute_result"
    }
   ],
   "source": [
    "x.i"
   ]
  },
  {
   "cell_type": "markdown",
   "metadata": {},
   "source": [
    "# Instance Objects\n"
   ]
  },
  {
   "cell_type": "markdown",
   "metadata": {},
   "source": [
    "Instance object support only attribute references.\n"
   ]
  },
  {
   "cell_type": "markdown",
   "metadata": {},
   "source": [
    "There two kinds of attribute names:\n",
    "\n",
    "- Data attributes\n",
    "- Methods\n"
   ]
  },
  {
   "cell_type": "markdown",
   "metadata": {},
   "source": [
    "Data attributes need not to be declared. Like local varibles, they could be assigned.\n"
   ]
  },
  {
   "cell_type": "code",
   "execution_count": 22,
   "metadata": {},
   "outputs": [
    {
     "name": "stdout",
     "output_type": "stream",
     "text": [
      "16\n"
     ]
    }
   ],
   "source": [
    "cls.counter = 1\n",
    "while cls.counter < 10:\n",
    "    cls.counter = cls.counter * 2\n",
    "print(cls.counter)\n",
    "del cls.counter"
   ]
  },
  {
   "cell_type": "markdown",
   "metadata": {},
   "source": [
    "# Method Objects\n"
   ]
  },
  {
   "cell_type": "markdown",
   "metadata": {},
   "source": [
    "Methods are functions that belongs to class instance objects.\n"
   ]
  },
  {
   "cell_type": "code",
   "execution_count": 25,
   "metadata": {},
   "outputs": [
    {
     "data": {
      "text/plain": [
       "<bound method MyClass.foo of <__main__.MyClass object at 0x0000022B03927E80>>"
      ]
     },
     "execution_count": 25,
     "metadata": {},
     "output_type": "execute_result"
    }
   ],
   "source": [
    "cls.foo"
   ]
  },
  {
   "cell_type": "code",
   "execution_count": 27,
   "metadata": {},
   "outputs": [
    {
     "data": {
      "text/plain": [
       "<function __main__.MyClass.foo(self)>"
      ]
     },
     "execution_count": 27,
     "metadata": {},
     "output_type": "execute_result"
    }
   ],
   "source": [
    "# Function object not method object\n",
    "MyClass.foo"
   ]
  },
  {
   "cell_type": "markdown",
   "metadata": {},
   "source": [
    "Instance object is passed as the first argument of the function.\\\n",
    "So `instance.method()` is equivalent to `class.function(instance)`.\n"
   ]
  },
  {
   "cell_type": "code",
   "execution_count": 29,
   "metadata": {},
   "outputs": [
    {
     "data": {
      "text/plain": [
       "'Hello world!'"
      ]
     },
     "execution_count": 29,
     "metadata": {},
     "output_type": "execute_result"
    }
   ],
   "source": [
    "cls.foo()"
   ]
  },
  {
   "cell_type": "code",
   "execution_count": 30,
   "metadata": {},
   "outputs": [
    {
     "data": {
      "text/plain": [
       "'Hello world!'"
      ]
     },
     "execution_count": 30,
     "metadata": {},
     "output_type": "execute_result"
    }
   ],
   "source": [
    "MyClass.foo(cls)"
   ]
  },
  {
   "cell_type": "markdown",
   "metadata": {},
   "source": [
    "The global scope of a method is the module containing its definition.\n"
   ]
  },
  {
   "cell_type": "markdown",
   "metadata": {},
   "source": [
    "# Class and Instance Varibles\n"
   ]
  },
  {
   "cell_type": "markdown",
   "metadata": {},
   "source": [
    "Class varibles are for data attributes and methods shared by all instances of the class.\\\n",
    "Instance varibles are for data unique to each instance."
   ]
  },
  {
   "cell_type": "code",
   "execution_count": 1,
   "metadata": {},
   "outputs": [],
   "source": [
    "class Dog:\n",
    "\n",
    "    kind = \"canine\"  #class varible\n",
    "\n",
    "    def __init__(self, name):\n",
    "        self.name = name  #instance varible\n"
   ]
  },
  {
   "cell_type": "code",
   "execution_count": 2,
   "metadata": {},
   "outputs": [],
   "source": [
    "d = Dog(\"Fido\")\n",
    "e = Dog(\"Shanne\")"
   ]
  },
  {
   "cell_type": "code",
   "execution_count": 3,
   "metadata": {},
   "outputs": [
    {
     "data": {
      "text/plain": [
       "'canine'"
      ]
     },
     "execution_count": 3,
     "metadata": {},
     "output_type": "execute_result"
    }
   ],
   "source": [
    "d.kind"
   ]
  },
  {
   "cell_type": "code",
   "execution_count": 4,
   "metadata": {},
   "outputs": [
    {
     "data": {
      "text/plain": [
       "'canine'"
      ]
     },
     "execution_count": 4,
     "metadata": {},
     "output_type": "execute_result"
    }
   ],
   "source": [
    "e.kind"
   ]
  },
  {
   "cell_type": "code",
   "execution_count": 5,
   "metadata": {},
   "outputs": [
    {
     "data": {
      "text/plain": [
       "'Fido'"
      ]
     },
     "execution_count": 5,
     "metadata": {},
     "output_type": "execute_result"
    }
   ],
   "source": [
    "d.name"
   ]
  },
  {
   "cell_type": "code",
   "execution_count": 36,
   "metadata": {},
   "outputs": [
    {
     "data": {
      "text/plain": [
       "'Shanne'"
      ]
     },
     "execution_count": 36,
     "metadata": {},
     "output_type": "execute_result"
    }
   ],
   "source": [
    "e.name"
   ]
  },
  {
   "cell_type": "markdown",
   "metadata": {},
   "source": [
    "Class varible is store as `mappingproxy` in the `__dict__` attribute.\\\n",
    "Instance varible is store as `dict` in the `__dict__` attribute.\\\n",
    "If an instance attribute is not found in the instance varibles, Python will search the class varibles."
   ]
  },
  {
   "cell_type": "code",
   "execution_count": 6,
   "metadata": {},
   "outputs": [
    {
     "data": {
      "text/plain": [
       "mappingproxy({'__module__': '__main__',\n",
       "              'kind': 'canine',\n",
       "              '__init__': <function __main__.Dog.__init__(self, name)>,\n",
       "              '__dict__': <attribute '__dict__' of 'Dog' objects>,\n",
       "              '__weakref__': <attribute '__weakref__' of 'Dog' objects>,\n",
       "              '__doc__': None})"
      ]
     },
     "execution_count": 6,
     "metadata": {},
     "output_type": "execute_result"
    }
   ],
   "source": [
    "Dog.__dict__"
   ]
  },
  {
   "cell_type": "code",
   "execution_count": 7,
   "metadata": {},
   "outputs": [
    {
     "data": {
      "text/plain": [
       "{'name': 'Fido'}"
      ]
     },
     "execution_count": 7,
     "metadata": {},
     "output_type": "execute_result"
    }
   ],
   "source": [
    "d.__dict__"
   ]
  },
  {
   "cell_type": "markdown",
   "metadata": {},
   "source": [
    "# Private Varibles\n"
   ]
  },
  {
   "cell_type": "markdown",
   "metadata": {},
   "source": [
    "Encapsulation is one of the four fundamental concepts in object-oriented programming including abstraction, encapsulation, inheritance, and polymorphism. Encapsulation is the packing of data and functions that work on that data within a single object. By doing so, you can hide the internal state of the object from the outside. This is known as information hiding.\\\n",
    "In fact, nothing in Python makes it possible to enforce data hiding. \"Private\" varibles cannot be acccess except from inside an object don't exists in Python.\n"
   ]
  },
  {
   "cell_type": "markdown",
   "metadata": {},
   "source": [
    "As a convention, you can prefix your attributes with an underscore(\\_) to denote that they are internal use(non-public).\n"
   ]
  },
  {
   "cell_type": "code",
   "execution_count": 47,
   "metadata": {},
   "outputs": [],
   "source": [
    "class List:\n",
    "\n",
    "    def __init__(self, iterable):\n",
    "        self._items = list(iterable)\n",
    "\n",
    "    def add(self, item):\n",
    "        self._items.append(item)\n",
    "\n",
    "    __add = add"
   ]
  },
  {
   "cell_type": "markdown",
   "metadata": {},
   "source": [
    "To avoid name clashes of name defined by subclasses, use _name mangling_.\\\n",
    "An indentifier(not just class's attribute) prefixed with double underscores(**) is textually replaced with \\_classname**indentifiername.\n"
   ]
  },
  {
   "cell_type": "code",
   "execution_count": 48,
   "metadata": {},
   "outputs": [],
   "source": [
    "class SortedList(List):\n",
    "\n",
    "    def __init__(self):\n",
    "        self._items = []\n",
    "\n",
    "    def __init__(self, iterable):\n",
    "        self._items = []\n",
    "        for item in iterable:\n",
    "            self.add(item)\n",
    "\n",
    "    def add(self, item):\n",
    "        for idx, sorted_item in enumerate(self._items):\n",
    "            if item < sorted_item:\n",
    "                self._items.insert(idx, item)\n",
    "                return\n",
    "\n",
    "        self._items.append(item)"
   ]
  },
  {
   "cell_type": "code",
   "execution_count": 49,
   "metadata": {},
   "outputs": [],
   "source": [
    "sorted_list = SortedList([3, 2, 2, 1])"
   ]
  },
  {
   "cell_type": "code",
   "execution_count": 50,
   "metadata": {},
   "outputs": [
    {
     "data": {
      "text/plain": [
       "[1, 2, 2, 3]"
      ]
     },
     "execution_count": 50,
     "metadata": {},
     "output_type": "execute_result"
    }
   ],
   "source": [
    "sorted_list._items"
   ]
  },
  {
   "cell_type": "code",
   "execution_count": 51,
   "metadata": {},
   "outputs": [
    {
     "data": {
      "text/plain": [
       "['_List__add',\n",
       " '__class__',\n",
       " '__delattr__',\n",
       " '__dict__',\n",
       " '__dir__',\n",
       " '__doc__',\n",
       " '__eq__',\n",
       " '__format__',\n",
       " '__ge__',\n",
       " '__getattribute__',\n",
       " '__gt__',\n",
       " '__hash__',\n",
       " '__init__',\n",
       " '__init_subclass__',\n",
       " '__le__',\n",
       " '__lt__',\n",
       " '__module__',\n",
       " '__ne__',\n",
       " '__new__',\n",
       " '__reduce__',\n",
       " '__reduce_ex__',\n",
       " '__repr__',\n",
       " '__setattr__',\n",
       " '__sizeof__',\n",
       " '__str__',\n",
       " '__subclasshook__',\n",
       " '__weakref__',\n",
       " '_items',\n",
       " 'add']"
      ]
     },
     "execution_count": 51,
     "metadata": {},
     "output_type": "execute_result"
    }
   ],
   "source": [
    "dir(sorted_list)"
   ]
  },
  {
   "cell_type": "code",
   "execution_count": 52,
   "metadata": {},
   "outputs": [],
   "source": [
    "sorted_list._List__add(2)"
   ]
  },
  {
   "cell_type": "code",
   "execution_count": 53,
   "metadata": {},
   "outputs": [
    {
     "data": {
      "text/plain": [
       "[1, 2, 2, 3, 2]"
      ]
     },
     "execution_count": 53,
     "metadata": {},
     "output_type": "execute_result"
    }
   ],
   "source": [
    "sorted_list._items"
   ]
  },
  {
   "cell_type": "markdown",
   "metadata": {},
   "source": [
    "# Class Methods\n"
   ]
  },
  {
   "cell_type": "markdown",
   "metadata": {},
   "source": [
    "Class methods is a method not bound to any specific instance object but to its class object alone.\n"
   ]
  },
  {
   "cell_type": "markdown",
   "metadata": {},
   "source": [
    "To define a class method:\n",
    "\n",
    "1. Place the `@classmethod` before function definition in class or `classmethod()`.\n",
    "2. Instead of `self`, name the first `cls`. `cls` can access class varibles.\n"
   ]
  },
  {
   "cell_type": "code",
   "execution_count": null,
   "metadata": {},
   "outputs": [],
   "source": [
    "class Person:\n",
    "    population = 0\n",
    "\n",
    "    def greeting(self):\n",
    "        return f\"Hi, my name is {self.name}\"\n",
    "\n",
    "    @classmethod\n",
    "    def create_person(cls, name):\n",
    "        cls.population += 1\n",
    "        new_person = Person()\n",
    "        new_person.name = name\n",
    "\n",
    "        return new_person"
   ]
  },
  {
   "cell_type": "code",
   "execution_count": null,
   "metadata": {},
   "outputs": [
    {
     "data": {
      "text/plain": [
       "'Hi, my name is Huy'"
      ]
     },
     "metadata": {},
     "output_type": "display_data"
    }
   ],
   "source": [
    "myself = Person.create_person(\"Huy\")\n",
    "myself.greeting()"
   ]
  },
  {
   "cell_type": "code",
   "execution_count": null,
   "metadata": {},
   "outputs": [
    {
     "data": {
      "text/plain": [
       "'Hi, my name is Khải'"
      ]
     },
     "metadata": {},
     "output_type": "display_data"
    }
   ],
   "source": [
    "friend = Person.create_person(\"Khải\")\n",
    "friend.greeting()"
   ]
  },
  {
   "cell_type": "code",
   "execution_count": null,
   "metadata": {},
   "outputs": [
    {
     "data": {
      "text/plain": [
       "2"
      ]
     },
     "metadata": {},
     "output_type": "display_data"
    }
   ],
   "source": [
    "Person.population"
   ]
  },
  {
   "cell_type": "code",
   "execution_count": 81,
   "metadata": {},
   "outputs": [],
   "source": [
    "class Person:\n",
    "    population = 0\n",
    "\n",
    "    def greeting(self):\n",
    "        return f\"Hi, my name is {self.name}\"\n",
    "\n",
    "\n",
    "def create_person(cls, name):\n",
    "    cls.population += 1\n",
    "    new_person = Person()\n",
    "    new_person.name = name\n",
    "\n",
    "    return new_person\n"
   ]
  },
  {
   "cell_type": "code",
   "execution_count": 82,
   "metadata": {},
   "outputs": [],
   "source": [
    "Person.create_person = classmethod(create_person)"
   ]
  },
  {
   "cell_type": "code",
   "execution_count": 83,
   "metadata": {},
   "outputs": [
    {
     "data": {
      "text/plain": [
       "'Hi, my name is Huy'"
      ]
     },
     "execution_count": 83,
     "metadata": {},
     "output_type": "execute_result"
    }
   ],
   "source": [
    "myself = Person.create_person(\"Huy\")\n",
    "myself.greeting()"
   ]
  },
  {
   "cell_type": "code",
   "execution_count": 84,
   "metadata": {},
   "outputs": [
    {
     "data": {
      "text/plain": [
       "1"
      ]
     },
     "execution_count": 84,
     "metadata": {},
     "output_type": "execute_result"
    }
   ],
   "source": [
    "Person.population"
   ]
  },
  {
   "cell_type": "markdown",
   "metadata": {},
   "source": [
    "# Static Methods\n"
   ]
  },
  {
   "cell_type": "markdown",
   "metadata": {},
   "source": [
    "Static methods aren't bound to instace object or even class object. So static methods cannot modify the state of an object as they are bound to none.\n"
   ]
  },
  {
   "cell_type": "markdown",
   "metadata": {},
   "source": [
    "In pratice, static methods are used to define utility methods or group functions that have some logical relationships in a class."
   ]
  },
  {
   "cell_type": "markdown",
   "metadata": {},
   "source": [
    "There are two way to create static methods:\n",
    "\n",
    "- `staticmethod()`\n",
    "- `@staticmethod` wrapper\n"
   ]
  },
  {
   "cell_type": "code",
   "execution_count": 76,
   "metadata": {},
   "outputs": [],
   "source": [
    "class Calculator:\n",
    "    pass\n",
    "\n",
    "\n",
    "def add_two_numbers(x, y):\n",
    "    return x + y\n",
    "\n",
    "\n",
    "Calculator.add_two_numbers = staticmethod(add_two_numbers)"
   ]
  },
  {
   "cell_type": "code",
   "execution_count": 77,
   "metadata": {},
   "outputs": [
    {
     "data": {
      "text/plain": [
       "3"
      ]
     },
     "execution_count": 77,
     "metadata": {},
     "output_type": "execute_result"
    }
   ],
   "source": [
    "Calculator.add_two_numbers(1, 2)\n"
   ]
  },
  {
   "cell_type": "code",
   "execution_count": 79,
   "metadata": {},
   "outputs": [],
   "source": [
    "class Calculator:\n",
    "\n",
    "    @staticmethod\n",
    "    def add_two_numbers(x, y):\n",
    "        return x + y"
   ]
  },
  {
   "cell_type": "code",
   "execution_count": 80,
   "metadata": {},
   "outputs": [
    {
     "data": {
      "text/plain": [
       "3"
      ]
     },
     "execution_count": 80,
     "metadata": {},
     "output_type": "execute_result"
    }
   ],
   "source": [
    "Calculator.add_two_numbers(1, 2)"
   ]
  },
  {
   "cell_type": "markdown",
   "metadata": {},
   "source": [
    "# Magic Methods"
   ]
  },
  {
   "cell_type": "markdown",
   "metadata": {},
   "source": [
    "## Definition"
   ]
  },
  {
   "cell_type": "markdown",
   "metadata": {},
   "source": [
    "A magic method(or dunder method) are methods that being internally used by Python. These methods is a contract to Python Intepreter that make sure certain syntax or built-in function work on the class."
   ]
  },
  {
   "cell_type": "markdown",
   "metadata": {},
   "source": [
    "Example:\n",
    "- `__str__()` for str() function.\n",
    "- `__repr__()` for REPL.\n",
    "- `__hash__()` for hash() function.\n",
    "- `__add__()` for + operator.\n",
    "- `__iadd__()` for += operator."
   ]
  },
  {
   "cell_type": "markdown",
   "metadata": {},
   "source": [
    "## `__str__`"
   ]
  },
  {
   "cell_type": "markdown",
   "metadata": {},
   "source": [
    "`__str__` is meant to return *human-redable* string representation of a instance object. When you call `print()`, it calls `str()` to get the result which in turn calls `__str__`."
   ]
  },
  {
   "cell_type": "code",
   "execution_count": 4,
   "metadata": {},
   "outputs": [],
   "source": [
    "class Point:\n",
    "    def __init__(self, x=0, y=0):\n",
    "        self.x = x\n",
    "        self.y = y\n",
    "    \n",
    "    def __str__(self):\n",
    "        return f'Point at coordinate (x={self.x},y={self.y})'"
   ]
  },
  {
   "cell_type": "code",
   "execution_count": 5,
   "metadata": {},
   "outputs": [],
   "source": [
    "point = Point(1, 2)"
   ]
  },
  {
   "cell_type": "code",
   "execution_count": 6,
   "metadata": {},
   "outputs": [
    {
     "data": {
      "text/plain": [
       "'Point at coordinate (x=1,y=2)'"
      ]
     },
     "execution_count": 6,
     "metadata": {},
     "output_type": "execute_result"
    }
   ],
   "source": [
    "str(point)"
   ]
  },
  {
   "cell_type": "code",
   "execution_count": 7,
   "metadata": {},
   "outputs": [
    {
     "name": "stdout",
     "output_type": "stream",
     "text": [
      "Point at coordinate (x=1,y=2)\n"
     ]
    }
   ],
   "source": [
    "print(point)"
   ]
  },
  {
   "cell_type": "markdown",
   "metadata": {},
   "source": [
    "## `__repr__`"
   ]
  },
  {
   "cell_type": "markdown",
   "metadata": {},
   "source": [
    "`__repr__` is meant to return *programmer-readable* or *machine-readable* string representation of a instance object. In REPL, Python Intepreter calls `repr()` which in turn calls `__repr__` method to output to screen.\\\n",
    "Note: **You should alway implement `__repr__` but not `__str__`** because every object should have one string representation."
   ]
  },
  {
   "cell_type": "code",
   "execution_count": 9,
   "metadata": {},
   "outputs": [
    {
     "name": "stdout",
     "output_type": "stream",
     "text": [
      "Help on built-in function repr in module builtins:\n",
      "\n",
      "repr(obj, /)\n",
      "    Return the canonical string representation of the object.\n",
      "    \n",
      "    For many object types, including most builtins, eval(repr(obj)) == obj.\n",
      "\n"
     ]
    }
   ],
   "source": [
    "help(repr)"
   ]
  },
  {
   "cell_type": "markdown",
   "metadata": {},
   "source": [
    "The covention above state that the string should be actual Python code that can be used to replicate the same instance object."
   ]
  },
  {
   "cell_type": "code",
   "execution_count": 31,
   "metadata": {},
   "outputs": [],
   "source": [
    "class Point:\n",
    "    def __init__(self, x=0, y=0):\n",
    "        self.x = x\n",
    "        self.y = y\n",
    "    \n",
    "    def __repr__(self):\n",
    "        return f'Point({self.x},{self.y})'"
   ]
  },
  {
   "cell_type": "code",
   "execution_count": 11,
   "metadata": {},
   "outputs": [],
   "source": [
    "point = Point(1, 2)"
   ]
  },
  {
   "cell_type": "code",
   "execution_count": 12,
   "metadata": {},
   "outputs": [
    {
     "data": {
      "text/plain": [
       "'Point(1,2)'"
      ]
     },
     "execution_count": 12,
     "metadata": {},
     "output_type": "execute_result"
    }
   ],
   "source": [
    "repr(point)"
   ]
  },
  {
   "cell_type": "code",
   "execution_count": 13,
   "metadata": {},
   "outputs": [
    {
     "data": {
      "text/plain": [
       "Point(1,2)"
      ]
     },
     "execution_count": 13,
     "metadata": {},
     "output_type": "execute_result"
    }
   ],
   "source": [
    "point"
   ]
  },
  {
   "cell_type": "code",
   "execution_count": 15,
   "metadata": {},
   "outputs": [
    {
     "data": {
      "text/plain": [
       "Point(1,2)"
      ]
     },
     "execution_count": 15,
     "metadata": {},
     "output_type": "execute_result"
    }
   ],
   "source": [
    "clone_point = eval(repr(point))\n",
    "clone_point"
   ]
  },
  {
   "cell_type": "markdown",
   "metadata": {},
   "source": [
    "The default `__str__` delegate to `__repr__`. So you only need to define `__repr__` to get a string representation of instance objects."
   ]
  },
  {
   "cell_type": "code",
   "execution_count": 16,
   "metadata": {},
   "outputs": [
    {
     "data": {
      "text/plain": [
       "'Point(1,2)'"
      ]
     },
     "execution_count": 16,
     "metadata": {},
     "output_type": "execute_result"
    }
   ],
   "source": [
    "str(point)"
   ]
  },
  {
   "cell_type": "code",
   "execution_count": 17,
   "metadata": {},
   "outputs": [
    {
     "data": {
      "text/plain": [
       "'Point(1,2)'"
      ]
     },
     "execution_count": 17,
     "metadata": {},
     "output_type": "execute_result"
    }
   ],
   "source": [
    "point.__str__()"
   ]
  },
  {
   "cell_type": "code",
   "execution_count": 18,
   "metadata": {},
   "outputs": [
    {
     "name": "stdout",
     "output_type": "stream",
     "text": [
      "Point(1,2)\n"
     ]
    }
   ],
   "source": [
    "print(point)"
   ]
  },
  {
   "cell_type": "markdown",
   "metadata": {},
   "source": [
    "## `__eq__`"
   ]
  },
  {
   "cell_type": "markdown",
   "metadata": {},
   "source": [
    "`__eq__` method is used when compares two object for equality. The default implementation of equality is the same as identity."
   ]
  },
  {
   "cell_type": "code",
   "execution_count": 33,
   "metadata": {},
   "outputs": [],
   "source": [
    "a, b = Point(1, 2), Point(1, 2)"
   ]
  },
  {
   "cell_type": "code",
   "execution_count": 34,
   "metadata": {},
   "outputs": [
    {
     "data": {
      "text/plain": [
       "False"
      ]
     },
     "execution_count": 34,
     "metadata": {},
     "output_type": "execute_result"
    }
   ],
   "source": [
    "a == b"
   ]
  },
  {
   "cell_type": "code",
   "execution_count": 35,
   "metadata": {},
   "outputs": [
    {
     "data": {
      "text/plain": [
       "True"
      ]
     },
     "execution_count": 35,
     "metadata": {},
     "output_type": "execute_result"
    }
   ],
   "source": [
    "a == a"
   ]
  },
  {
   "cell_type": "code",
   "execution_count": 36,
   "metadata": {},
   "outputs": [
    {
     "data": {
      "text/plain": [
       "True"
      ]
     },
     "execution_count": 36,
     "metadata": {},
     "output_type": "execute_result"
    }
   ],
   "source": [
    "a is a"
   ]
  },
  {
   "cell_type": "markdown",
   "metadata": {},
   "source": [
    "When `==` is used, Python call `__eq__()` on the first object and passing in second object."
   ]
  },
  {
   "cell_type": "code",
   "execution_count": 25,
   "metadata": {},
   "outputs": [
    {
     "data": {
      "text/plain": [
       "NotImplemented"
      ]
     },
     "execution_count": 25,
     "metadata": {},
     "output_type": "execute_result"
    }
   ],
   "source": [
    "a.__eq__(b)"
   ]
  },
  {
   "cell_type": "markdown",
   "metadata": {},
   "source": [
    "If it return `True` or `False`, it return the value back. But if `NotImplemented` is returned, then it go throught the same process with the second object."
   ]
  },
  {
   "cell_type": "code",
   "execution_count": 26,
   "metadata": {},
   "outputs": [
    {
     "data": {
      "text/plain": [
       "NotImplemented"
      ]
     },
     "execution_count": 26,
     "metadata": {},
     "output_type": "execute_result"
    }
   ],
   "source": [
    "b.__eq__(a)"
   ]
  },
  {
   "cell_type": "markdown",
   "metadata": {},
   "source": [
    "If it doesn't get `True` or `False` this time, it returns `False`."
   ]
  },
  {
   "cell_type": "code",
   "execution_count": 27,
   "metadata": {},
   "outputs": [
    {
     "data": {
      "text/plain": [
       "False"
      ]
     },
     "execution_count": 27,
     "metadata": {},
     "output_type": "execute_result"
    }
   ],
   "source": [
    "a == b"
   ]
  },
  {
   "cell_type": "code",
   "execution_count": 7,
   "metadata": {},
   "outputs": [],
   "source": [
    "class Point:\n",
    "    def __init__(self, x=0, y=0):\n",
    "        self.x = x\n",
    "        self.y = y\n",
    "    \n",
    "    def __eq__(self, other):\n",
    "        if isinstance(other, Point):\n",
    "            return (self.x, self.y) == (other.x, other.y)\n",
    "        else:\n",
    "            return NotImplemented\n",
    "\n",
    "    def __repr__(self):\n",
    "        return f'Point({self.x},{self.y})'"
   ]
  },
  {
   "cell_type": "code",
   "execution_count": 29,
   "metadata": {},
   "outputs": [],
   "source": [
    "a, b = Point(1, 2), Point(1, 2)"
   ]
  },
  {
   "cell_type": "code",
   "execution_count": 30,
   "metadata": {},
   "outputs": [
    {
     "data": {
      "text/plain": [
       "True"
      ]
     },
     "execution_count": 30,
     "metadata": {},
     "output_type": "execute_result"
    }
   ],
   "source": [
    "a == b"
   ]
  },
  {
   "cell_type": "markdown",
   "metadata": {},
   "source": [
    "# `__hash__`"
   ]
  },
  {
   "cell_type": "markdown",
   "metadata": {},
   "source": [
    "`__hash__` is used to get the hash value of a instance object. The hash value should be spreaded randomly and evenly. `__hash__` is used by the `hash()` built-in function. A hashable object can be valid key of a dictionary or a member of a set. "
   ]
  },
  {
   "cell_type": "code",
   "execution_count": 69,
   "metadata": {},
   "outputs": [],
   "source": [
    "class Point:\n",
    "    def __init__(self, x=0, y=0):\n",
    "        self.x = x\n",
    "        self.y = y\n",
    "    \n",
    "    # def __eq__(self, other):\n",
    "    #     if isinstance(other, Point):\n",
    "    #         return (self.x, self.y) == (other.x, other.y)\n",
    "    #     else:\n",
    "    #         return NotImplemented\n",
    "\n",
    "    def __repr__(self):\n",
    "        return f'Point({self.x},{self.y})'"
   ]
  },
  {
   "cell_type": "code",
   "execution_count": 27,
   "metadata": {},
   "outputs": [],
   "source": [
    "a = Point(1, 1)"
   ]
  },
  {
   "cell_type": "markdown",
   "metadata": {},
   "source": [
    "The default `__hash__` method is based on identity."
   ]
  },
  {
   "cell_type": "code",
   "execution_count": 30,
   "metadata": {},
   "outputs": [
    {
     "data": {
      "text/plain": [
       "166550938276"
      ]
     },
     "execution_count": 30,
     "metadata": {},
     "output_type": "execute_result"
    }
   ],
   "source": [
    "a.__hash__()"
   ]
  },
  {
   "cell_type": "code",
   "execution_count": 31,
   "metadata": {},
   "outputs": [
    {
     "data": {
      "text/plain": [
       "166550938276"
      ]
     },
     "execution_count": 31,
     "metadata": {},
     "output_type": "execute_result"
    }
   ],
   "source": [
    "hash(a)"
   ]
  },
  {
   "cell_type": "code",
   "execution_count": 32,
   "metadata": {},
   "outputs": [
    {
     "data": {
      "text/plain": [
       "166550938276.0"
      ]
     },
     "execution_count": 32,
     "metadata": {},
     "output_type": "execute_result"
    }
   ],
   "source": [
    "id(a) / 16"
   ]
  },
  {
   "cell_type": "markdown",
   "metadata": {},
   "source": [
    "If you override the default `__eq__`. `__hash__` is set to `None`."
   ]
  },
  {
   "cell_type": "code",
   "execution_count": 74,
   "metadata": {},
   "outputs": [],
   "source": [
    "class Point:\n",
    "    def __init__(self, x=0, y=0):\n",
    "        self.x = x\n",
    "        self.y = y\n",
    "    \n",
    "    def __eq__(self, other):\n",
    "        if isinstance(other, Point):\n",
    "            return (self.x, self.y) == (other.x, other.y)\n",
    "        else:\n",
    "            return NotImplemented\n",
    "\n",
    "    def __repr__(self):\n",
    "        return f'Point({self.x},{self.y})'"
   ]
  },
  {
   "cell_type": "code",
   "execution_count": 75,
   "metadata": {},
   "outputs": [],
   "source": [
    "a = Point(1, 1)"
   ]
  },
  {
   "cell_type": "code",
   "execution_count": 76,
   "metadata": {},
   "outputs": [
    {
     "ename": "TypeError",
     "evalue": "unhashable type: 'Point'",
     "output_type": "error",
     "traceback": [
      "\u001b[1;31m---------------------------------------------------------------------------\u001b[0m",
      "\u001b[1;31mTypeError\u001b[0m                                 Traceback (most recent call last)",
      "\u001b[1;32md:\\Tutorial\\python\\Classes.ipynb Cell 137\u001b[0m in \u001b[0;36m<cell line: 1>\u001b[1;34m()\u001b[0m\n\u001b[1;32m----> <a href='vscode-notebook-cell:/d%3A/Tutorial/python/Classes.ipynb#Y300sZmlsZQ%3D%3D?line=0'>1</a>\u001b[0m \u001b[39mhash\u001b[39;49m(a)\n",
      "\u001b[1;31mTypeError\u001b[0m: unhashable type: 'Point'"
     ]
    }
   ],
   "source": [
    "hash(a)"
   ]
  },
  {
   "cell_type": "markdown",
   "metadata": {},
   "source": [
    "So if you override `__equal__` method then you must implement `__hash__` method too to make instances of class hashable."
   ]
  },
  {
   "cell_type": "code",
   "execution_count": 79,
   "metadata": {},
   "outputs": [],
   "source": [
    "class Point:\n",
    "    def __init__(self, x=0, y=0):\n",
    "        self.x = x\n",
    "        self.y = y\n",
    "    \n",
    "    def __eq__(self, other):\n",
    "        if isinstance(other, Point):\n",
    "            return (self.x, self.y) == (other.x, other.y)\n",
    "        else:\n",
    "            return NotImplemented\n",
    "\n",
    "    def __hash__(self):\n",
    "        return hash((self.x, self.y))\n",
    "\n",
    "    def __repr__(self):\n",
    "        return f'Point({self.x},{self.y})'"
   ]
  },
  {
   "cell_type": "code",
   "execution_count": 80,
   "metadata": {},
   "outputs": [],
   "source": [
    "a = Point(1, 1)"
   ]
  },
  {
   "cell_type": "code",
   "execution_count": 81,
   "metadata": {},
   "outputs": [
    {
     "data": {
      "text/plain": [
       "8389048192121911274"
      ]
     },
     "execution_count": 81,
     "metadata": {},
     "output_type": "execute_result"
    }
   ],
   "source": [
    "hash(a)"
   ]
  },
  {
   "cell_type": "markdown",
   "metadata": {},
   "source": [
    "A hashable object should also be immutable or atleast it should return the same hash value over its life time."
   ]
  },
  {
   "cell_type": "code",
   "execution_count": 82,
   "metadata": {},
   "outputs": [
    {
     "data": {
      "text/plain": [
       "6794810172467074373"
      ]
     },
     "execution_count": 82,
     "metadata": {},
     "output_type": "execute_result"
    }
   ],
   "source": [
    "a.x = 2\n",
    "hash(a) # Not equal the last hash value"
   ]
  },
  {
   "cell_type": "code",
   "execution_count": 89,
   "metadata": {},
   "outputs": [],
   "source": [
    "class ImmutablePoint:\n",
    "    '''Immutable point in two dimension coordination.'''\n",
    "\n",
    "    def __init__(self, x=0, y=0):\n",
    "        self._x = x\n",
    "        self._y = y\n",
    "\n",
    "    @property\n",
    "    def x(self):\n",
    "        return self._x\n",
    "\n",
    "    @property\n",
    "    def y(self):\n",
    "        return self._y\n",
    "\n",
    "    def __eq__(self, other):\n",
    "        if isinstance(other, Point):\n",
    "            return (self.x, self.y) == (other.x, other.y)\n",
    "        else:\n",
    "            return NotImplemented\n",
    "\n",
    "    def __hash__(self):\n",
    "        return hash((self.x, self.y))\n",
    "\n",
    "    def __repr__(self):\n",
    "        return f'Point({self.x},{self.y})'"
   ]
  },
  {
   "cell_type": "code",
   "execution_count": 90,
   "metadata": {},
   "outputs": [],
   "source": [
    "a = ImmutablePoint(1, 1)"
   ]
  },
  {
   "cell_type": "code",
   "execution_count": 91,
   "metadata": {},
   "outputs": [
    {
     "ename": "AttributeError",
     "evalue": "can't set attribute 'x'",
     "output_type": "error",
     "traceback": [
      "\u001b[1;31m---------------------------------------------------------------------------\u001b[0m",
      "\u001b[1;31mAttributeError\u001b[0m                            Traceback (most recent call last)",
      "\u001b[1;32md:\\Tutorial\\python\\Classes.ipynb Cell 146\u001b[0m in \u001b[0;36m<cell line: 1>\u001b[1;34m()\u001b[0m\n\u001b[1;32m----> <a href='vscode-notebook-cell:/d%3A/Tutorial/python/Classes.ipynb#Y325sZmlsZQ%3D%3D?line=0'>1</a>\u001b[0m a\u001b[39m.\u001b[39mx \u001b[39m=\u001b[39m \u001b[39m2\u001b[39m\n",
      "\u001b[1;31mAttributeError\u001b[0m: can't set attribute 'x'"
     ]
    }
   ],
   "source": [
    "a.x = 2"
   ]
  },
  {
   "cell_type": "code",
   "execution_count": 92,
   "metadata": {},
   "outputs": [
    {
     "data": {
      "text/plain": [
       "8389048192121911274"
      ]
     },
     "execution_count": 92,
     "metadata": {},
     "output_type": "execute_result"
    }
   ],
   "source": [
    "hash(a)"
   ]
  },
  {
   "cell_type": "markdown",
   "metadata": {},
   "source": [
    "## `__len__`"
   ]
  },
  {
   "cell_type": "markdown",
   "metadata": {},
   "source": [
    "`__len__` method is used to get the \"length\" of a instance. `len()` built-in function called `__len__()` method of the argument . `__len__` method must return an integer or `len()` raise `TypeError`."
   ]
  },
  {
   "cell_type": "code",
   "execution_count": 9,
   "metadata": {},
   "outputs": [],
   "source": [
    "from typing import Sequence\n",
    "\n",
    "\n",
    "class Indexxer:\n",
    "    \"\"\"Immutable sequence used for indexing or alignment.\"\"\"\n",
    "\n",
    "    def __init__(self, sequence: Sequence):\n",
    "        \"\"\"Init instance with a copy of sequence.\"\"\"\n",
    "        self._sequence = sequence[:]\n",
    "\n",
    "    def __len__(self):\n",
    "        \"\"\"Returns the length of the index sequence.\"\"\"\n",
    "        return len(self._sequence)\n"
   ]
  },
  {
   "cell_type": "code",
   "execution_count": 16,
   "metadata": {},
   "outputs": [],
   "source": [
    "idx = Indexxer(list(range(100)))"
   ]
  },
  {
   "cell_type": "code",
   "execution_count": 17,
   "metadata": {},
   "outputs": [
    {
     "data": {
      "text/plain": [
       "100"
      ]
     },
     "execution_count": 17,
     "metadata": {},
     "output_type": "execute_result"
    }
   ],
   "source": [
    "len(idx)"
   ]
  },
  {
   "cell_type": "markdown",
   "metadata": {},
   "source": [
    "## `__bool__`"
   ]
  },
  {
   "cell_type": "markdown",
   "metadata": {},
   "source": [
    "To determine the truthtiness of an instance object, you should implement `__bool__` method. `bool()` called the `__bool__()` method of the argument. If instance doesn't have `__bool__` method, `bool()` will look for the `__len()__` method."
   ]
  },
  {
   "cell_type": "code",
   "execution_count": 4,
   "metadata": {},
   "outputs": [
    {
     "name": "stdout",
     "output_type": "stream",
     "text": [
      "True\n",
      "False\n",
      "False\n"
     ]
    }
   ],
   "source": [
    "class Point:\n",
    "    def __init__(self, x=0, y=0):\n",
    "        self._x = x\n",
    "        self._y = y\n",
    "\n",
    "    def __bool__(self):\n",
    "        if not self._x and not self._y:\n",
    "            return False\n",
    "        else:\n",
    "            return True\n",
    "    \n",
    "    def __repr__(self):\n",
    "        return f'Point({self.x},{self.y})'\n",
    "        \n",
    "p1 = Point(3, 4)\n",
    "p2 = Point(0, 0)\n",
    "p3 = Point()\n",
    "print(bool(p1))\n",
    "print(bool(p2))\n",
    "print(bool(p3))"
   ]
  },
  {
   "cell_type": "code",
   "execution_count": 2,
   "metadata": {},
   "outputs": [
    {
     "name": "stdout",
     "output_type": "stream",
     "text": [
      "True\n",
      "False\n",
      "False\n"
     ]
    }
   ],
   "source": [
    "from math import sqrt\n",
    "\n",
    "class Point:\n",
    "    def __init__(self, x=0, y=0):\n",
    "        self._x = x\n",
    "        self._y = y\n",
    "\n",
    "    def __len__(self):\n",
    "        return int(sqrt(self._x*self._x + self._y*self._y))\n",
    "    \n",
    "    def __repr__(self):\n",
    "        return f'Point({self.x},{self.y})'\n",
    "        \n",
    "p1 = Point(3, 4)\n",
    "p2 = Point(0, 0)\n",
    "p3 = Point()\n",
    "print(bool(p1))\n",
    "print(bool(p2))\n",
    "print(bool(p3))"
   ]
  },
  {
   "cell_type": "markdown",
   "metadata": {},
   "source": [
    "`__del__` method is called when all references to the object have been removed. `__del__` is a class finallizer not a destructor because Python garbage collector detroys the object not `__del__`. If the `__del__` contains references to objects, those objects will be destroyed. It recommended to use the contet manager(`__enter__` and `__exit__`) over `__del__`."
   ]
  },
  {
   "cell_type": "code",
   "execution_count": 15,
   "metadata": {},
   "outputs": [
    {
     "name": "stdout",
     "output_type": "stream",
     "text": [
      "__del__ was called\n"
     ]
    }
   ],
   "source": [
    "class Person:\n",
    "    def __init__(self, name, age):\n",
    "        self.name = name\n",
    "        self.age = age\n",
    "\n",
    "    def __del__(self):\n",
    "        print('__del__ was called')\n",
    "\n",
    "person = Person('John Doe', 23)\n",
    "person = None"
   ]
  },
  {
   "cell_type": "markdown",
   "metadata": {},
   "source": [
    "# Property"
   ]
  },
  {
   "cell_type": "markdown",
   "metadata": {},
   "source": [
    "## Definition"
   ]
  },
  {
   "cell_type": "markdown",
   "metadata": {},
   "source": [
    "Properties provide interface for accessing the underlies fields(data attributes) while not affecting the way they being referenced."
   ]
  },
  {
   "cell_type": "markdown",
   "metadata": {},
   "source": [
    "To support this, Python has `property()` built-in function(class.\n",
    "```python\n",
    "property(fget=None, fset=None, fdel=None, doc=None)\n",
    "```"
   ]
  },
  {
   "cell_type": "code",
   "execution_count": 26,
   "metadata": {},
   "outputs": [],
   "source": [
    "class Python:\n",
    "    \"\"\"A python of specific length\"\"\"\n",
    "\n",
    "    def __init__(self, length):\n",
    "        \"\"\"Init the length of the Python.\"\"\"\n",
    "        self.length = length\n",
    "\n",
    "    def get_length(self):\n",
    "        \"\"\"Return the current length.\"\"\"\n",
    "        return self._length\n",
    "\n",
    "    def set_length(self, length):\n",
    "        \"\"\"Set the current length\"\"\"\n",
    "        try:\n",
    "            length = float(length)\n",
    "        except ValueError as err:\n",
    "            raise ValueError('The python length is not a real number')\n",
    "\n",
    "        if length > 0:\n",
    "            self._length = length\n",
    "        else:\n",
    "            raise ValueError('The python length must greater than zero')\n",
    "\n",
    "    def del_length(self):\n",
    "        \"\"\"Remove length attribute\"\"\"\n",
    "        del self._length\n",
    "\n",
    "    length = property(fget=get_length,\n",
    "                      fset=set_length,\n",
    "                      fdel=del_length,\n",
    "                      doc='The length of python.')\n"
   ]
  },
  {
   "cell_type": "code",
   "execution_count": 27,
   "metadata": {},
   "outputs": [],
   "source": [
    "py = Python(10)"
   ]
  },
  {
   "cell_type": "code",
   "execution_count": 28,
   "metadata": {},
   "outputs": [
    {
     "data": {
      "text/plain": [
       "10.0"
      ]
     },
     "execution_count": 28,
     "metadata": {},
     "output_type": "execute_result"
    }
   ],
   "source": [
    "py.length"
   ]
  },
  {
   "cell_type": "code",
   "execution_count": 29,
   "metadata": {},
   "outputs": [],
   "source": [
    "py.length = 100"
   ]
  },
  {
   "cell_type": "code",
   "execution_count": 30,
   "metadata": {},
   "outputs": [
    {
     "data": {
      "text/plain": [
       "100.0"
      ]
     },
     "execution_count": 30,
     "metadata": {},
     "output_type": "execute_result"
    }
   ],
   "source": [
    "py.length"
   ]
  },
  {
   "cell_type": "markdown",
   "metadata": {},
   "source": [
    "`length` is class varible."
   ]
  },
  {
   "cell_type": "code",
   "execution_count": 31,
   "metadata": {},
   "outputs": [
    {
     "data": {
      "text/plain": [
       "'The length of python.'"
      ]
     },
     "execution_count": 31,
     "metadata": {},
     "output_type": "execute_result"
    }
   ],
   "source": [
    "Python.length.__doc__"
   ]
  },
  {
   "cell_type": "code",
   "execution_count": 35,
   "metadata": {},
   "outputs": [
    {
     "data": {
      "text/plain": [
       "mappingproxy({'__module__': '__main__',\n",
       "              '__doc__': 'A python of specific length',\n",
       "              '__init__': <function __main__.Python.__init__(self, length)>,\n",
       "              'get_length': <function __main__.Python.get_length(self)>,\n",
       "              'set_length': <function __main__.Python.set_length(self, length)>,\n",
       "              'del_length': <function __main__.Python.del_length(self)>,\n",
       "              'length': <property at 0x2374c246e30>,\n",
       "              '__dict__': <attribute '__dict__' of 'Python' objects>,\n",
       "              '__weakref__': <attribute '__weakref__' of 'Python' objects>})"
      ]
     },
     "execution_count": 35,
     "metadata": {},
     "output_type": "execute_result"
    }
   ],
   "source": [
    "Python.__dict__"
   ]
  },
  {
   "cell_type": "code",
   "execution_count": 32,
   "metadata": {},
   "outputs": [
    {
     "data": {
      "text/plain": [
       "{'_length': 100.0}"
      ]
     },
     "execution_count": 32,
     "metadata": {},
     "output_type": "execute_result"
    }
   ],
   "source": [
    "py.__dict__"
   ]
  },
  {
   "cell_type": "code",
   "execution_count": 33,
   "metadata": {},
   "outputs": [],
   "source": [
    "del py.length"
   ]
  },
  {
   "cell_type": "code",
   "execution_count": 34,
   "metadata": {},
   "outputs": [
    {
     "data": {
      "text/plain": [
       "{}"
      ]
     },
     "execution_count": 34,
     "metadata": {},
     "output_type": "execute_result"
    }
   ],
   "source": [
    "py.__dict__"
   ]
  },
  {
   "cell_type": "markdown",
   "metadata": {},
   "source": [
    "## `@Property`"
   ]
  },
  {
   "cell_type": "markdown",
   "metadata": {},
   "source": [
    "`Property()` can be used as a decorator. It return a property object that have the following methods: `getter`, `setter`, `deleter`. These methods are also usable as decorators."
   ]
  },
  {
   "cell_type": "markdown",
   "metadata": {},
   "source": [
    "A decorator return another callable with a difference name so you can name all the property functions with the same name."
   ]
  },
  {
   "cell_type": "code",
   "execution_count": 38,
   "metadata": {},
   "outputs": [],
   "source": [
    "class Python:\n",
    "    \"\"\"A python of specific length\"\"\"\n",
    "\n",
    "    def __init__(self, length):\n",
    "        \"\"\"Init the length of the Python.\"\"\"\n",
    "        self.length = length\n",
    "\n",
    "    @property\n",
    "    def length(self):\n",
    "        \"\"\"Return the current length.\"\"\"\n",
    "        return self._length\n",
    "\n",
    "    @length.setter\n",
    "    def length(self, length):\n",
    "        \"\"\"Set the current length\"\"\"\n",
    "        try:\n",
    "            length = float(length)\n",
    "        except ValueError as err:\n",
    "            raise ValueError('The python length is not a real number')\n",
    "\n",
    "        if length > 0:\n",
    "            self._length = length\n",
    "        else:\n",
    "            raise ValueError('The python length must greater than zero')\n",
    "\n",
    "    @length.deleter\n",
    "    def length(self):\n",
    "        \"\"\"Remove length attribute\"\"\"\n",
    "        del self._length\n"
   ]
  },
  {
   "cell_type": "code",
   "execution_count": 54,
   "metadata": {},
   "outputs": [],
   "source": [
    "py = Python(7.5)"
   ]
  },
  {
   "cell_type": "code",
   "execution_count": 49,
   "metadata": {},
   "outputs": [
    {
     "data": {
      "text/plain": [
       "7.5"
      ]
     },
     "execution_count": 49,
     "metadata": {},
     "output_type": "execute_result"
    }
   ],
   "source": [
    "py.length"
   ]
  },
  {
   "cell_type": "code",
   "execution_count": 50,
   "metadata": {},
   "outputs": [
    {
     "data": {
      "text/plain": [
       "10.0"
      ]
     },
     "execution_count": 50,
     "metadata": {},
     "output_type": "execute_result"
    }
   ],
   "source": [
    "py.length = 10\n",
    "py.length"
   ]
  },
  {
   "cell_type": "markdown",
   "metadata": {},
   "source": [
    "By default, `__doc__` is set to docstring of `fget`. Again `length` is a class varible."
   ]
  },
  {
   "cell_type": "code",
   "execution_count": 51,
   "metadata": {},
   "outputs": [
    {
     "data": {
      "text/plain": [
       "'Return the current length.'"
      ]
     },
     "execution_count": 51,
     "metadata": {},
     "output_type": "execute_result"
    }
   ],
   "source": [
    "Python.length.__doc__"
   ]
  },
  {
   "cell_type": "code",
   "execution_count": 55,
   "metadata": {},
   "outputs": [
    {
     "data": {
      "text/plain": [
       "{}"
      ]
     },
     "execution_count": 55,
     "metadata": {},
     "output_type": "execute_result"
    }
   ],
   "source": [
    "del py.length\n",
    "py.__dict__"
   ]
  },
  {
   "cell_type": "markdown",
   "metadata": {},
   "source": [
    "Suppose you have a `age` method calculate the python age based on current length. Every time you call the method, the age must be recalculated. To make it more performant, you turn `age` to a read-only property. If the length changes, `age` is recalculated."
   ]
  },
  {
   "cell_type": "code",
   "execution_count": 56,
   "metadata": {},
   "outputs": [],
   "source": [
    "class Python:\n",
    "    \"\"\"A python of specific length\"\"\"\n",
    "\n",
    "    def __init__(self, length):\n",
    "        \"\"\"Init the length of the Python.\"\"\"\n",
    "        self.length = length\n",
    "\n",
    "    @property\n",
    "    def length(self):\n",
    "        \"\"\"Return the current length.\"\"\"\n",
    "        return self._length\n",
    "\n",
    "    @property\n",
    "    def age(self):\n",
    "        \"\"\"Return the age of python.\"\"\"\n",
    "        if self._age is None:\n",
    "            self._age = int(self.length / 5)\n",
    "\n",
    "        return self._age\n",
    "\n",
    "    @length.setter\n",
    "    def length(self, length):\n",
    "        \"\"\"Set the current length.\"\"\"\n",
    "        try:\n",
    "            length = float(length)\n",
    "        except ValueError as err:\n",
    "            raise ValueError('The python length is not a real number')\n",
    "\n",
    "        if length > 0:\n",
    "            self._length = length\n",
    "            self._age = None\n",
    "        else:\n",
    "            raise ValueError('The python length must greater than zero')\n",
    "\n",
    "    @length.deleter\n",
    "    def length(self):\n",
    "        \"\"\"Remove length attribute.\"\"\"\n",
    "        del self._length\n"
   ]
  },
  {
   "cell_type": "code",
   "execution_count": 57,
   "metadata": {},
   "outputs": [],
   "source": [
    "py = Python(10)"
   ]
  },
  {
   "cell_type": "code",
   "execution_count": 58,
   "metadata": {},
   "outputs": [
    {
     "data": {
      "text/plain": [
       "2"
      ]
     },
     "execution_count": 58,
     "metadata": {},
     "output_type": "execute_result"
    }
   ],
   "source": [
    "py.age"
   ]
  },
  {
   "cell_type": "code",
   "execution_count": 59,
   "metadata": {},
   "outputs": [],
   "source": [
    "py.length = 6"
   ]
  },
  {
   "cell_type": "code",
   "execution_count": 60,
   "metadata": {},
   "outputs": [
    {
     "data": {
      "text/plain": [
       "1"
      ]
     },
     "execution_count": 60,
     "metadata": {},
     "output_type": "execute_result"
    }
   ],
   "source": [
    "py.age"
   ]
  },
  {
   "cell_type": "markdown",
   "metadata": {},
   "source": [
    "# Inheritance\n"
   ]
  },
  {
   "cell_type": "markdown",
   "metadata": {},
   "source": [
    "## Definition"
   ]
  },
  {
   "cell_type": "markdown",
   "metadata": {},
   "source": [
    "Inheritance allow a class to reuse of an existing class.\\\n",
    "Python also support mutiple inheritances.\n"
   ]
  },
  {
   "cell_type": "code",
   "execution_count": null,
   "metadata": {},
   "outputs": [],
   "source": [
    "class Person:\n",
    "\n",
    "    def __init__(self, name):\n",
    "        self.name = name\n",
    "\n",
    "    def greeting(self):\n",
    "        return f\"Hi, my name is {self.name}\""
   ]
  },
  {
   "cell_type": "code",
   "execution_count": null,
   "metadata": {},
   "outputs": [],
   "source": [
    "class Employee(Person):\n",
    "\n",
    "    def __init__(self, name, job_title):\n",
    "        self.name = name\n",
    "        self.job_title = job_title"
   ]
  },
  {
   "cell_type": "code",
   "execution_count": null,
   "metadata": {},
   "outputs": [
    {
     "data": {
      "text/plain": [
       "'Hi, my name is Huy'"
      ]
     },
     "metadata": {},
     "output_type": "display_data"
    }
   ],
   "source": [
    "emp = Employee(\"Huy\", \"fresher\")\n",
    "emp.greeting()"
   ]
  },
  {
   "cell_type": "markdown",
   "metadata": {},
   "source": [
    "Here `Employee` is a child class, derived class, subclass of `Person`.\\\n",
    "And `Person` is a parent class, base class, super class of `Employee`.\n"
   ]
  },
  {
   "cell_type": "markdown",
   "metadata": {},
   "source": [
    "`Employee` derived from, extended or subclassed the `Person` class.\\\n",
    "An `Employee` **IS-A** `Person`.\n"
   ]
  },
  {
   "cell_type": "code",
   "execution_count": null,
   "metadata": {},
   "outputs": [
    {
     "name": "stdout",
     "output_type": "stream",
     "text": [
      "<class '__main__.Employee'>\n"
     ]
    }
   ],
   "source": [
    "print(type(emp))"
   ]
  },
  {
   "cell_type": "code",
   "execution_count": null,
   "metadata": {},
   "outputs": [
    {
     "name": "stdout",
     "output_type": "stream",
     "text": [
      "<class '__main__.Person'>\n"
     ]
    }
   ],
   "source": [
    "myself = Person(\"Huy\")\n",
    "print(type(myself))"
   ]
  },
  {
   "cell_type": "code",
   "execution_count": null,
   "metadata": {},
   "outputs": [
    {
     "data": {
      "text/plain": [
       "True"
      ]
     },
     "metadata": {},
     "output_type": "display_data"
    }
   ],
   "source": [
    "isinstance(myself, Person)"
   ]
  },
  {
   "cell_type": "code",
   "execution_count": null,
   "metadata": {},
   "outputs": [
    {
     "data": {
      "text/plain": [
       "True"
      ]
     },
     "metadata": {},
     "output_type": "display_data"
    }
   ],
   "source": [
    "isinstance(emp, Employee)"
   ]
  },
  {
   "cell_type": "code",
   "execution_count": null,
   "metadata": {},
   "outputs": [
    {
     "data": {
      "text/plain": [
       "True"
      ]
     },
     "metadata": {},
     "output_type": "display_data"
    }
   ],
   "source": [
    "isinstance(emp, Person)"
   ]
  },
  {
   "cell_type": "code",
   "execution_count": null,
   "metadata": {},
   "outputs": [
    {
     "data": {
      "text/plain": [
       "False"
      ]
     },
     "metadata": {},
     "output_type": "display_data"
    }
   ],
   "source": [
    "isinstance(myself, Employee)"
   ]
  },
  {
   "cell_type": "code",
   "execution_count": null,
   "metadata": {},
   "outputs": [
    {
     "data": {
      "text/plain": [
       "True"
      ]
     },
     "metadata": {},
     "output_type": "display_data"
    }
   ],
   "source": [
    "issubclass(Employee, Person)"
   ]
  },
  {
   "cell_type": "markdown",
   "metadata": {},
   "source": [
    "Every class is implicitly inherit from `object` class.\n"
   ]
  },
  {
   "cell_type": "code",
   "execution_count": null,
   "metadata": {},
   "outputs": [
    {
     "data": {
      "text/plain": [
       "True"
      ]
     },
     "metadata": {},
     "output_type": "display_data"
    }
   ],
   "source": [
    "issubclass(Person, object)"
   ]
  },
  {
   "cell_type": "code",
   "execution_count": null,
   "metadata": {},
   "outputs": [
    {
     "data": {
      "text/plain": [
       "True"
      ]
     },
     "metadata": {},
     "output_type": "display_data"
    }
   ],
   "source": [
    "issubclass(Employee, object)"
   ]
  },
  {
   "cell_type": "code",
   "execution_count": null,
   "metadata": {},
   "outputs": [
    {
     "data": {
      "text/plain": [
       "True"
      ]
     },
     "metadata": {},
     "output_type": "display_data"
    }
   ],
   "source": [
    "issubclass(bool, int)"
   ]
  },
  {
   "cell_type": "markdown",
   "metadata": {},
   "source": [
    "## Overriding"
   ]
  },
  {
   "cell_type": "markdown",
   "metadata": {},
   "source": [
    "Some times, the child class want to have a difference implementation of a method or data attribute that is already provided by atleast of its parent."
   ]
  },
  {
   "cell_type": "code",
   "execution_count": 58,
   "metadata": {},
   "outputs": [],
   "source": [
    "import re\n",
    "\n",
    "\n",
    "class InfoParser:\n",
    "    \"\"\"Parse information like email or phone from a text.\"\"\"\n",
    "\n",
    "    def __init__(self, text):\n",
    "        \"\"\"Initialize the text that contains the infomation.\"\"\"\n",
    "        self.text = text\n",
    "\n",
    "    @property\n",
    "    def text(self):\n",
    "        \"\"\"Return the text contains the information.\"\"\"\n",
    "        return self._text\n",
    "\n",
    "    @text.setter\n",
    "    def text(self, value):\n",
    "        \"\"\"Set the text contains the information.\"\"\"\n",
    "        self._text = value\n",
    "\n",
    "        #Reset email and phone\n",
    "        self._email = None\n",
    "        self._phone = None\n",
    "\n",
    "    @property\n",
    "    def email(self):\n",
    "        \"\"\"Parse all emails from the text and return it.\"\"\"\n",
    "        if self._email is None:\n",
    "            self._email = re.findall(\n",
    "                r'([a-z0-9\\.\\-+_]+@[a-z0-9\\.\\-+_]+\\.[a-z]+)', self.text)\n",
    "\n",
    "        if self._email:\n",
    "            return self._email\n",
    "\n",
    "        return None\n",
    "\n",
    "    @property\n",
    "    def phone(self):\n",
    "        \"\"\"Parse all phones from the text and return it.\"\"\"\n",
    "        if self._phone is None:\n",
    "            self._phone = re.findall(r'\\d{3}-\\d{3}-\\d{4}', self.text)\n",
    "\n",
    "        if self._phone:\n",
    "            return self._phone\n",
    "\n",
    "        return None\n",
    "\n",
    "    def parse(self):\n",
    "        \"\"\"Return all phones and email that can be parsed from the text.\"\"\"\n",
    "        return {'phone': self.phone, 'email': self.email}\n",
    "\n",
    "\n",
    "class UKParser(InfoParser):\n",
    "    \"\"\"Parse UK's format infomation from a text.\"\"\"\n",
    "\n",
    "    @property\n",
    "    def phone(self):\n",
    "        \"\"\"Parse all phones from the text and return.\"\"\"\n",
    "        if self._phone is None:\n",
    "            self._phone = re.findall(r'\\+\\d{1}-\\d{3}-\\d{3}-\\d{4}', self.text)\n",
    "\n",
    "        if self._phone:\n",
    "            return self._phone\n",
    "\n",
    "        return None\n"
   ]
  },
  {
   "cell_type": "code",
   "execution_count": 49,
   "metadata": {},
   "outputs": [],
   "source": [
    "parser = InfoParser('My name is Trần Minh Huy, contact me via 094-833-7945 or minhhuy9a3dt@gmail.com')"
   ]
  },
  {
   "cell_type": "code",
   "execution_count": 50,
   "metadata": {},
   "outputs": [
    {
     "data": {
      "text/plain": [
       "{'phone': ['094-833-7945'], 'email': ['minhhuy9a3dt@gmail.com']}"
      ]
     },
     "execution_count": 50,
     "metadata": {},
     "output_type": "execute_result"
    }
   ],
   "source": [
    "parser.parse()"
   ]
  },
  {
   "cell_type": "code",
   "execution_count": 52,
   "metadata": {},
   "outputs": [],
   "source": [
    "parser.text = 'Contact us via 408-205-5663 or email@test.com'"
   ]
  },
  {
   "cell_type": "code",
   "execution_count": 54,
   "metadata": {},
   "outputs": [
    {
     "data": {
      "text/plain": [
       "{'phone': ['408-205-5663'], 'email': ['email@test.com']}"
      ]
     },
     "execution_count": 54,
     "metadata": {},
     "output_type": "execute_result"
    }
   ],
   "source": [
    "parser.parse()"
   ]
  },
  {
   "cell_type": "code",
   "execution_count": 59,
   "metadata": {},
   "outputs": [],
   "source": [
    "parser = UKParser('Contact me via +1-650-453-3456 or email@test.co.uk')"
   ]
  },
  {
   "cell_type": "code",
   "execution_count": 60,
   "metadata": {},
   "outputs": [
    {
     "data": {
      "text/plain": [
       "{'phone': ['+1-650-453-3456'], 'email': ['email@test.co.uk']}"
      ]
     },
     "execution_count": 60,
     "metadata": {},
     "output_type": "execute_result"
    }
   ],
   "source": [
    "parser.parse()"
   ]
  },
  {
   "cell_type": "markdown",
   "metadata": {},
   "source": [
    "UKParser'phone only differ from its base class implementation beacause of regex pattern.\\\n",
    "So we should override a class varible instead of a method."
   ]
  },
  {
   "cell_type": "code",
   "execution_count": 61,
   "metadata": {},
   "outputs": [],
   "source": [
    "import re\n",
    "\n",
    "\n",
    "class InfoParser:\n",
    "    \"\"\"Parse information like email or phone from a text.\"\"\"\n",
    "    __phone_regex = r'\\d{3}-\\d{3}-\\d{4}'\n",
    "\n",
    "    def __init__(self, text):\n",
    "        \"\"\"Initialize the text that contains the infomation.\"\"\"\n",
    "        self.text = text\n",
    "\n",
    "    @property\n",
    "    def text(self):\n",
    "        \"\"\"Return the text contains the information.\"\"\"\n",
    "        return self._text\n",
    "\n",
    "    @text.setter\n",
    "    def text(self, value):\n",
    "        \"\"\"Set the text contains the information.\"\"\"\n",
    "        self._text = value\n",
    "\n",
    "        #Reset email and phone\n",
    "        self._email = None\n",
    "        self._phone = None\n",
    "\n",
    "    @property\n",
    "    def email(self):\n",
    "        \"\"\"Parse all emails from the text and return it.\"\"\"\n",
    "        if self._email is None:\n",
    "            self._email = re.findall(\n",
    "                r'([a-z0-9\\.\\-+_]+@[a-z0-9\\.\\-+_]+\\.[a-z]+)', self.text)\n",
    "\n",
    "        if self._email:\n",
    "            return self._email\n",
    "\n",
    "        return None\n",
    "\n",
    "    @property\n",
    "    def phone(self):\n",
    "        \"\"\"Parse all phones from the text and return it.\"\"\"\n",
    "        if self._phone is None:\n",
    "            self._phone = re.findall(self.__phone_regex, self.text)\n",
    "\n",
    "        if self._phone:\n",
    "            return self._phone\n",
    "\n",
    "        return None\n",
    "\n",
    "    def parse(self):\n",
    "        \"\"\"Return all phones and email that can be parsed from the text.\"\"\"\n",
    "        return {'phone': self.phone, 'email': self.email}\n",
    "\n",
    "\n",
    "class UKParser(InfoParser):\n",
    "    \"\"\"Parse UK's format infomation from a text.\"\"\"\n",
    "    __phone_regex = r'\\+\\d{1}-\\d{3}-\\d{3}-\\d{4}'\n"
   ]
  },
  {
   "cell_type": "code",
   "execution_count": 62,
   "metadata": {},
   "outputs": [],
   "source": [
    "parser = InfoParser('My name is Trần Minh Huy, contact me via 094-833-7945 or minhhuy9a3dt@gmail.com')"
   ]
  },
  {
   "cell_type": "code",
   "execution_count": 63,
   "metadata": {},
   "outputs": [
    {
     "data": {
      "text/plain": [
       "{'phone': ['094-833-7945'], 'email': ['minhhuy9a3dt@gmail.com']}"
      ]
     },
     "execution_count": 63,
     "metadata": {},
     "output_type": "execute_result"
    }
   ],
   "source": [
    "parser.parse()"
   ]
  },
  {
   "cell_type": "code",
   "execution_count": 64,
   "metadata": {},
   "outputs": [],
   "source": [
    "parser = UKParser('Contact me via +1-650-453-3456 or email@test.co.uk')"
   ]
  },
  {
   "cell_type": "code",
   "execution_count": 65,
   "metadata": {},
   "outputs": [
    {
     "data": {
      "text/plain": [
       "{'phone': ['650-453-3456'], 'email': ['email@test.co.uk']}"
      ]
     },
     "execution_count": 65,
     "metadata": {},
     "output_type": "execute_result"
    }
   ],
   "source": [
    "parser.parse()"
   ]
  },
  {
   "cell_type": "markdown",
   "metadata": {},
   "source": [
    "## `supper`"
   ]
  },
  {
   "cell_type": "markdown",
   "metadata": {},
   "source": [
    "`supper` can be used for delegating method calls to the parent class. This is useful when  some logic have already been declared in the parent class and you want to reuse it. "
   ]
  },
  {
   "cell_type": "code",
   "execution_count": 74,
   "metadata": {},
   "outputs": [],
   "source": [
    "class Employee:\n",
    "    \"\"\"A employee profile.\"\"\"\n",
    "\n",
    "    def __init__(self, name: str, base_pay: float, bonnus: float) -> None:\n",
    "        \"\"\"Initialize employee name, base salary and bonnus.\"\"\"\n",
    "        self.name = name\n",
    "        self.base_pay = base_pay\n",
    "        self.bonnus = bonnus\n",
    "\n",
    "    def get_pay(self) -> float:\n",
    "        \"\"\"Calculate the salary of employee and return.\"\"\"\n",
    "        return self.base_pay + self.bonnus"
   ]
  },
  {
   "cell_type": "code",
   "execution_count": 80,
   "metadata": {},
   "outputs": [],
   "source": [
    "class SaleEmployee(Employee):\n",
    "    \"\"\"A sale employee profile.\"\"\"\n",
    "    def __init__(self, name: str, base_pay, sale_incentive, bonnus) -> None:\n",
    "        \"\"\"Initialize name, base salary, sale incentive and bonnus.\"\"\"\n",
    "        super().__init__(name, base_pay, bonnus)\n",
    "        self.sale_incentive = sale_incentive\n",
    "\n",
    "    def get_pay(self) -> float:\n",
    "        \"\"\"Calculate the salary of employee.\"\"\"\n",
    "        return super().get_pay() + self.sale_incentive"
   ]
  },
  {
   "cell_type": "code",
   "execution_count": 81,
   "metadata": {},
   "outputs": [
    {
     "data": {
      "text/plain": [
       "12000000"
      ]
     },
     "execution_count": 81,
     "metadata": {},
     "output_type": "execute_result"
    }
   ],
   "source": [
    "emp = Employee(\"Huy\", 10_000_000, 2_000_000)\n",
    "emp.get_pay()"
   ]
  },
  {
   "cell_type": "code",
   "execution_count": 82,
   "metadata": {},
   "outputs": [
    {
     "data": {
      "text/plain": [
       "14000000"
      ]
     },
     "execution_count": 82,
     "metadata": {},
     "output_type": "execute_result"
    }
   ],
   "source": [
    "sale_emp = SaleEmployee(\"Huy\", 7_000_000, 5_000_000, 2_000_000)\n",
    "sale_emp.get_pay()"
   ]
  },
  {
   "cell_type": "markdown",
   "metadata": {},
   "source": [
    "# `__slot__`"
   ]
  },
  {
   "cell_type": "markdown",
   "metadata": {},
   "source": [
    "Python stores instance attributes as a dictionary in `__dict__` attribute. "
   ]
  },
  {
   "cell_type": "code",
   "execution_count": 104,
   "metadata": {},
   "outputs": [],
   "source": [
    "class Point:\n",
    "\n",
    "    def __init__(self, x: float, y: float) -> None:\n",
    "        self.x = x\n",
    "        self.y = y\n"
   ]
  },
  {
   "cell_type": "code",
   "execution_count": 105,
   "metadata": {},
   "outputs": [
    {
     "data": {
      "text/plain": [
       "{'x': 1, 'y': 2}"
      ]
     },
     "execution_count": 105,
     "metadata": {},
     "output_type": "execute_result"
    }
   ],
   "source": [
    "p = Point(1, 2)\n",
    "p.__dict__"
   ]
  },
  {
   "cell_type": "markdown",
   "metadata": {},
   "source": [
    "The dictionary allows you to dynamically add attributes to instance at runtime. But this cause alot of overhead, especially when the class has many instances."
   ]
  },
  {
   "cell_type": "markdown",
   "metadata": {},
   "source": [
    "To help you avoid memory overhead, Python introduces the slots. If a class has a fixed number of instance varible, you can use `__slots__` to use replace `__dict__`. As slots uses a more compact data structure than dictionary."
   ]
  },
  {
   "cell_type": "markdown",
   "metadata": {},
   "source": [
    "To use slots, you need to specify a `__slots__` varible at the class namespace that take a tuple of instance attribute names."
   ]
  },
  {
   "cell_type": "code",
   "execution_count": 106,
   "metadata": {},
   "outputs": [],
   "source": [
    "class Point2D:\n",
    "    \"\"\"A 2D point in cartesion coordinate.\"\"\"\n",
    "    __slots__ = ('x', 'y')\n",
    "    def __init__(self, x: float, y: float) -> None:\n",
    "        \"\"\"Initialize the point's posistion.\"\"\"\n",
    "        self.x = x\n",
    "        self.y = y"
   ]
  },
  {
   "cell_type": "code",
   "execution_count": 112,
   "metadata": {},
   "outputs": [],
   "source": [
    "p1 = Point2D(1, 2)"
   ]
  },
  {
   "cell_type": "code",
   "execution_count": null,
   "metadata": {},
   "outputs": [
    {
     "data": {
      "text/plain": [
       "('x', 'y')"
      ]
     },
     "metadata": {},
     "output_type": "display_data"
    }
   ],
   "source": [
    "p1.__slots__"
   ]
  },
  {
   "cell_type": "code",
   "execution_count": 113,
   "metadata": {},
   "outputs": [
    {
     "ename": "AttributeError",
     "evalue": "'Point2D' object has no attribute '__dict__'",
     "output_type": "error",
     "traceback": [
      "\u001b[1;31m---------------------------------------------------------------------------\u001b[0m",
      "\u001b[1;31mAttributeError\u001b[0m                            Traceback (most recent call last)",
      "\u001b[1;32md:\\Tutorial\\python\\Classes.ipynb Cell 224\u001b[0m in \u001b[0;36m<cell line: 1>\u001b[1;34m()\u001b[0m\n\u001b[1;32m----> <a href='vscode-notebook-cell:/d%3A/Tutorial/python/Classes.ipynb#Y525sZmlsZQ%3D%3D?line=0'>1</a>\u001b[0m p1\u001b[39m.\u001b[39;49m\u001b[39m__dict__\u001b[39;49m\n",
      "\u001b[1;31mAttributeError\u001b[0m: 'Point2D' object has no attribute '__dict__'"
     ]
    }
   ],
   "source": [
    "p1.__dict__"
   ]
  },
  {
   "cell_type": "code",
   "execution_count": 115,
   "metadata": {},
   "outputs": [
    {
     "ename": "AttributeError",
     "evalue": "'Point2D' object has no attribute 'z'",
     "output_type": "error",
     "traceback": [
      "\u001b[1;31m---------------------------------------------------------------------------\u001b[0m",
      "\u001b[1;31mAttributeError\u001b[0m                            Traceback (most recent call last)",
      "\u001b[1;32md:\\Tutorial\\python\\Classes.ipynb Cell 226\u001b[0m in \u001b[0;36m<cell line: 1>\u001b[1;34m()\u001b[0m\n\u001b[1;32m----> <a href='vscode-notebook-cell:/d%3A/Tutorial/python/Classes.ipynb#Y530sZmlsZQ%3D%3D?line=0'>1</a>\u001b[0m p1\u001b[39m.\u001b[39mz \u001b[39m=\u001b[39m \u001b[39m3\u001b[39m\n",
      "\u001b[1;31mAttributeError\u001b[0m: 'Point2D' object has no attribute 'z'"
     ]
    }
   ],
   "source": [
    "p1.z = 3"
   ]
  },
  {
   "cell_type": "markdown",
   "metadata": {},
   "source": [
    "However, you can add class attribute to the class."
   ]
  },
  {
   "cell_type": "code",
   "execution_count": 117,
   "metadata": {},
   "outputs": [
    {
     "data": {
      "text/plain": [
       "mappingproxy({'__module__': '__main__',\n",
       "              '__doc__': 'A 2D point in cartesion coordinate.',\n",
       "              '__slots__': ('x', 'y'),\n",
       "              '__init__': <function __main__.Point2D.__init__(self, x: float, y: float) -> None>,\n",
       "              'x': <member 'x' of 'Point2D' objects>,\n",
       "              'y': <member 'y' of 'Point2D' objects>,\n",
       "              'z': 3})"
      ]
     },
     "execution_count": 117,
     "metadata": {},
     "output_type": "execute_result"
    }
   ],
   "source": [
    "Point2D.z = 3\n",
    "Point2D.__dict__"
   ]
  },
  {
   "cell_type": "markdown",
   "metadata": {},
   "source": [
    "# Enum"
   ]
  },
  {
   "cell_type": "markdown",
   "metadata": {},
   "source": [
    "## Definition"
   ]
  },
  {
   "cell_type": "markdown",
   "metadata": {},
   "source": [
    "Enumeration(or enum for short) is a set of members that have associated unique constant values."
   ]
  },
  {
   "cell_type": "code",
   "execution_count": 1,
   "metadata": {},
   "outputs": [],
   "source": [
    "from enum import Enum\n",
    "\n",
    "class TrafficLight(Enum):\n",
    "    GREEN = '#0F0'\n",
    "    YELLOW = '#FF0'\n",
    "    RED = '#F00'"
   ]
  },
  {
   "cell_type": "code",
   "execution_count": 157,
   "metadata": {},
   "outputs": [
    {
     "data": {
      "text/plain": [
       "<TrafficLight.GREEN: '#0F0'>"
      ]
     },
     "execution_count": 157,
     "metadata": {},
     "output_type": "execute_result"
    }
   ],
   "source": [
    "TrafficLight.GREEN"
   ]
  },
  {
   "cell_type": "code",
   "execution_count": 158,
   "metadata": {},
   "outputs": [
    {
     "data": {
      "text/plain": [
       "<TrafficLight.YELLOW: '#FF0'>"
      ]
     },
     "execution_count": 158,
     "metadata": {},
     "output_type": "execute_result"
    }
   ],
   "source": [
    "TrafficLight.YELLOW"
   ]
  },
  {
   "cell_type": "code",
   "execution_count": 159,
   "metadata": {},
   "outputs": [
    {
     "data": {
      "text/plain": [
       "<TrafficLight.RED: '#F00'>"
      ]
     },
     "execution_count": 159,
     "metadata": {},
     "output_type": "execute_result"
    }
   ],
   "source": [
    "TrafficLight.RED"
   ]
  },
  {
   "cell_type": "markdown",
   "metadata": {},
   "source": [
    "To get a enum members, init it with the corresponding value."
   ]
  },
  {
   "cell_type": "code",
   "execution_count": 2,
   "metadata": {},
   "outputs": [],
   "source": [
    "traf_light = TrafficLight.RED"
   ]
  },
  {
   "cell_type": "code",
   "execution_count": 162,
   "metadata": {},
   "outputs": [
    {
     "data": {
      "text/plain": [
       "<TrafficLight.RED: '#F00'>"
      ]
     },
     "execution_count": 162,
     "metadata": {},
     "output_type": "execute_result"
    }
   ],
   "source": [
    "traf_light"
   ]
  },
  {
   "cell_type": "markdown",
   "metadata": {},
   "source": [
    "Enum members have 2 attribute name and value. "
   ]
  },
  {
   "cell_type": "code",
   "execution_count": 164,
   "metadata": {},
   "outputs": [
    {
     "data": {
      "text/plain": [
       "'RED'"
      ]
     },
     "execution_count": 164,
     "metadata": {},
     "output_type": "execute_result"
    }
   ],
   "source": [
    "traf_light.RED.name"
   ]
  },
  {
   "cell_type": "code",
   "execution_count": 165,
   "metadata": {},
   "outputs": [
    {
     "data": {
      "text/plain": [
       "'#F00'"
      ]
     },
     "execution_count": 165,
     "metadata": {},
     "output_type": "execute_result"
    }
   ],
   "source": [
    "TrafficLight.RED.value"
   ]
  },
  {
   "cell_type": "markdown",
   "metadata": {},
   "source": [
    "## Type and members"
   ]
  },
  {
   "cell_type": "markdown",
   "metadata": {},
   "source": [
    "Enum's members are instance of enum class."
   ]
  },
  {
   "cell_type": "code",
   "execution_count": 166,
   "metadata": {},
   "outputs": [
    {
     "data": {
      "text/plain": [
       "<enum 'TrafficLight'>"
      ]
     },
     "execution_count": 166,
     "metadata": {},
     "output_type": "execute_result"
    }
   ],
   "source": [
    "type(traf_light)"
   ]
  },
  {
   "cell_type": "code",
   "execution_count": 167,
   "metadata": {},
   "outputs": [
    {
     "data": {
      "text/plain": [
       "enum.EnumMeta"
      ]
     },
     "execution_count": 167,
     "metadata": {},
     "output_type": "execute_result"
    }
   ],
   "source": [
    "type(TrafficLight)"
   ]
  },
  {
   "cell_type": "code",
   "execution_count": 168,
   "metadata": {},
   "outputs": [
    {
     "data": {
      "text/plain": [
       "True"
      ]
     },
     "execution_count": 168,
     "metadata": {},
     "output_type": "execute_result"
    }
   ],
   "source": [
    "isinstance(TrafficLight.RED, TrafficLight)"
   ]
  },
  {
   "cell_type": "markdown",
   "metadata": {},
   "source": [
    "You can check if a member belongs to an enum."
   ]
  },
  {
   "cell_type": "code",
   "execution_count": 169,
   "metadata": {},
   "outputs": [
    {
     "name": "stdout",
     "output_type": "stream",
     "text": [
      "Yes\n"
     ]
    }
   ],
   "source": [
    "if traf_light in TrafficLight:\n",
    "    print('Yes')"
   ]
  },
  {
   "cell_type": "code",
   "execution_count": 170,
   "metadata": {},
   "outputs": [
    {
     "data": {
      "text/plain": [
       "<TrafficLight.RED: '#F00'>"
      ]
     },
     "execution_count": 170,
     "metadata": {},
     "output_type": "execute_result"
    }
   ],
   "source": [
    "traf_light"
   ]
  },
  {
   "cell_type": "code",
   "execution_count": 171,
   "metadata": {},
   "outputs": [
    {
     "data": {
      "text/plain": [
       "True"
      ]
     },
     "execution_count": 171,
     "metadata": {},
     "output_type": "execute_result"
    }
   ],
   "source": [
    "TrafficLight.RED in TrafficLight"
   ]
  },
  {
   "cell_type": "code",
   "execution_count": 172,
   "metadata": {},
   "outputs": [
    {
     "data": {
      "text/plain": [
       "<TrafficLight.RED: '#F00'>"
      ]
     },
     "execution_count": 172,
     "metadata": {},
     "output_type": "execute_result"
    }
   ],
   "source": [
    "traf_light"
   ]
  },
  {
   "cell_type": "markdown",
   "metadata": {},
   "source": [
    "Enum members can be compared by indentity or equality."
   ]
  },
  {
   "cell_type": "code",
   "execution_count": 3,
   "metadata": {},
   "outputs": [
    {
     "data": {
      "text/plain": [
       "True"
      ]
     },
     "execution_count": 3,
     "metadata": {},
     "output_type": "execute_result"
    }
   ],
   "source": [
    "traf_light is TrafficLight.RED"
   ]
  },
  {
   "cell_type": "code",
   "execution_count": 4,
   "metadata": {},
   "outputs": [
    {
     "data": {
      "text/plain": [
       "False"
      ]
     },
     "execution_count": 4,
     "metadata": {},
     "output_type": "execute_result"
    }
   ],
   "source": [
    "traf_light is TrafficLight.GREEN"
   ]
  },
  {
   "cell_type": "code",
   "execution_count": 5,
   "metadata": {},
   "outputs": [
    {
     "data": {
      "text/plain": [
       "True"
      ]
     },
     "execution_count": 5,
     "metadata": {},
     "output_type": "execute_result"
    }
   ],
   "source": [
    "traf_light == TrafficLight.RED"
   ]
  },
  {
   "cell_type": "code",
   "execution_count": 6,
   "metadata": {},
   "outputs": [
    {
     "data": {
      "text/plain": [
       "False"
      ]
     },
     "execution_count": 6,
     "metadata": {},
     "output_type": "execute_result"
    }
   ],
   "source": [
    "TrafficLight.GREEN == TrafficLight.RED"
   ]
  },
  {
   "cell_type": "markdown",
   "metadata": {},
   "source": [
    "Members don't equal its value."
   ]
  },
  {
   "cell_type": "code",
   "execution_count": 178,
   "metadata": {},
   "outputs": [
    {
     "data": {
      "text/plain": [
       "False"
      ]
     },
     "execution_count": 178,
     "metadata": {},
     "output_type": "execute_result"
    }
   ],
   "source": [
    "TrafficLight.RED == '#F00'"
   ]
  },
  {
   "cell_type": "markdown",
   "metadata": {},
   "source": [
    "## Immutable and hashable"
   ]
  },
  {
   "cell_type": "markdown",
   "metadata": {},
   "source": [
    "Enums are immutable. You can add new members after definition or change value of its members."
   ]
  },
  {
   "cell_type": "code",
   "execution_count": 179,
   "metadata": {},
   "outputs": [],
   "source": [
    "TrafficLight.BLUE = '#00F'"
   ]
  },
  {
   "cell_type": "code",
   "execution_count": 183,
   "metadata": {},
   "outputs": [
    {
     "data": {
      "text/plain": [
       "'#00F'"
      ]
     },
     "execution_count": 183,
     "metadata": {},
     "output_type": "execute_result"
    }
   ],
   "source": [
    "TrafficLight.BLUE"
   ]
  },
  {
   "cell_type": "code",
   "execution_count": 185,
   "metadata": {},
   "outputs": [
    {
     "name": "stdout",
     "output_type": "stream",
     "text": [
      "BLUE is not a member\n"
     ]
    },
    {
     "name": "stderr",
     "output_type": "stream",
     "text": [
      "C:\\Users\\Huy\\AppData\\Local\\Temp\\ipykernel_3200\\1076168114.py:2: DeprecationWarning: in 3.12 __contains__ will no longer raise TypeError, but will return True if\n",
      "obj is a member or a member's value\n",
      "  TrafficLight.BLUE in TrafficLight\n"
     ]
    }
   ],
   "source": [
    "try:\n",
    "    TrafficLight.BLUE in TrafficLight\n",
    "except TypeError:\n",
    "    print(\"BLUE is not a member\")"
   ]
  },
  {
   "cell_type": "code",
   "execution_count": 181,
   "metadata": {},
   "outputs": [
    {
     "data": {
      "text/plain": [
       "[<TrafficLight.GREEN: '#0F0'>,\n",
       " <TrafficLight.YELLOW: '#FF0'>,\n",
       " <TrafficLight.RED: '#F00'>]"
      ]
     },
     "execution_count": 181,
     "metadata": {},
     "output_type": "execute_result"
    }
   ],
   "source": [
    "list(TrafficLight)"
   ]
  },
  {
   "cell_type": "code",
   "execution_count": 203,
   "metadata": {},
   "outputs": [
    {
     "name": "stdout",
     "output_type": "stream",
     "text": [
      "<class 'AttributeError'>: can't set attribute\n"
     ]
    }
   ],
   "source": [
    "try:\n",
    "    TrafficLight.RED.value = '#00F'\n",
    "except BaseException as err:\n",
    "    print(f'{type(err)}: {err}')"
   ]
  },
  {
   "cell_type": "markdown",
   "metadata": {},
   "source": [
    "Enum members are also hashable."
   ]
  },
  {
   "cell_type": "code",
   "execution_count": 199,
   "metadata": {},
   "outputs": [
    {
     "data": {
      "text/plain": [
       "{<TrafficLight.GREEN: '#0F0'>: 1,\n",
       " <TrafficLight.YELLOW: '#FF0'>: 2,\n",
       " <TrafficLight.RED: '#F00'>: 3}"
      ]
     },
     "execution_count": 199,
     "metadata": {},
     "output_type": "execute_result"
    }
   ],
   "source": [
    "light_order = {\n",
    "    TrafficLight.GREEN: 1,\n",
    "    TrafficLight.YELLOW: 2,\n",
    "    TrafficLight.RED: 3\n",
    "}\n",
    "light_order"
   ]
  },
  {
   "cell_type": "markdown",
   "metadata": {},
   "source": [
    "## Iterate"
   ]
  },
  {
   "cell_type": "markdown",
   "metadata": {},
   "source": [
    "Enums are iterable."
   ]
  },
  {
   "cell_type": "code",
   "execution_count": 186,
   "metadata": {},
   "outputs": [
    {
     "name": "stdout",
     "output_type": "stream",
     "text": [
      "TrafficLight.GREEN\n",
      "TrafficLight.YELLOW\n",
      "TrafficLight.RED\n"
     ]
    }
   ],
   "source": [
    "for light in TrafficLight:\n",
    "    print(light)"
   ]
  },
  {
   "cell_type": "code",
   "execution_count": 204,
   "metadata": {},
   "outputs": [
    {
     "data": {
      "text/plain": [
       "('#0F0', '#FF0', '#F00')"
      ]
     },
     "execution_count": 204,
     "metadata": {},
     "output_type": "execute_result"
    }
   ],
   "source": [
    "tuple(map(lambda light: light.value, TrafficLight))"
   ]
  },
  {
   "cell_type": "markdown",
   "metadata": {},
   "source": [
    "## Access members by name and value"
   ]
  },
  {
   "cell_type": "markdown",
   "metadata": {},
   "source": [
    "`Enum` base class implements `__getitem__` so you can get enum members by specifying its name using bracket syntax."
   ]
  },
  {
   "cell_type": "code",
   "execution_count": 188,
   "metadata": {},
   "outputs": [
    {
     "data": {
      "text/plain": [
       "<TrafficLight.YELLOW: '#FF0'>"
      ]
     },
     "execution_count": 188,
     "metadata": {},
     "output_type": "execute_result"
    }
   ],
   "source": [
    "TrafficLight['YELLOW']"
   ]
  },
  {
   "cell_type": "code",
   "execution_count": 196,
   "metadata": {},
   "outputs": [
    {
     "name": "stdout",
     "output_type": "stream",
     "text": [
      "<class 'KeyError'>: BLUE\n"
     ]
    }
   ],
   "source": [
    "try:\n",
    "    print(TrafficLight['BLUE'])\n",
    "except BaseException as err:\n",
    "    print(f'{type(err)}: {err.args[0]}')"
   ]
  },
  {
   "cell_type": "markdown",
   "metadata": {},
   "source": [
    "An enumeration is callable, value can be passed into it to get the corresponding members."
   ]
  },
  {
   "cell_type": "code",
   "execution_count": 197,
   "metadata": {},
   "outputs": [
    {
     "data": {
      "text/plain": [
       "<TrafficLight.GREEN: '#0F0'>"
      ]
     },
     "execution_count": 197,
     "metadata": {},
     "output_type": "execute_result"
    }
   ],
   "source": [
    "TrafficLight('#0F0')"
   ]
  },
  {
   "cell_type": "code",
   "execution_count": 198,
   "metadata": {},
   "outputs": [
    {
     "data": {
      "text/plain": [
       "True"
      ]
     },
     "execution_count": 198,
     "metadata": {},
     "output_type": "execute_result"
    }
   ],
   "source": [
    "TrafficLight['YELLOW'] == TrafficLight('#FF0')"
   ]
  },
  {
   "cell_type": "code",
   "execution_count": null,
   "metadata": {},
   "outputs": [
    {
     "name": "stdout",
     "output_type": "stream",
     "text": [
      "'00F' is not a valid TrafficLight\n"
     ]
    }
   ],
   "source": [
    "try:\n",
    "    traf_light = TrafficLight('00F')\n",
    "except ValueError as err:\n",
    "    print(err)"
   ]
  },
  {
   "cell_type": "markdown",
   "metadata": {},
   "source": [
    "## Inheritance"
   ]
  },
  {
   "cell_type": "markdown",
   "metadata": {},
   "source": [
    "An enumeration cannot be extended unless it is empty."
   ]
  },
  {
   "cell_type": "code",
   "execution_count": 210,
   "metadata": {},
   "outputs": [],
   "source": [
    "class ErrorCode(Enum):\n",
    "    pass\n",
    "\n",
    "class SuccessResponseStatus(ErrorCode):\n",
    "    INFOMATION = '1xx'\n",
    "    SUCCESSFULL = '2xx'\n",
    "    REDIRECTING = '3xx'"
   ]
  },
  {
   "cell_type": "code",
   "execution_count": 212,
   "metadata": {},
   "outputs": [
    {
     "name": "stdout",
     "output_type": "stream",
     "text": [
      "<class 'TypeError'>: ResponseStatus: cannot extend enumeration 'SuccessResponseStatus'\n"
     ]
    }
   ],
   "source": [
    "try:\n",
    "    class ResponseStatus(SuccessResponseStatus):\n",
    "        CLIENT_ERROR = '4xx'\n",
    "        SERVER_ERROR = '5xx'\n",
    "except BaseException as err:\n",
    "    print(f'{type(err)}: {err}')"
   ]
  },
  {
   "cell_type": "markdown",
   "metadata": {},
   "source": [
    "## Example"
   ]
  },
  {
   "cell_type": "code",
   "execution_count": 7,
   "metadata": {},
   "outputs": [
    {
     "name": "stdout",
     "output_type": "stream",
     "text": [
      "Saved\n"
     ]
    }
   ],
   "source": [
    "from enum import Enum\n",
    "from random import choices\n",
    "\n",
    "class CoinFlip(Enum):\n",
    "    HEAD = '👼'\n",
    "    TAIL = '👹'\n",
    "\n",
    "flip_states = [state.value for state in CoinFlip] + ['♱']\n",
    "flip_probs = (49.995, 49.995, 0.01)\n",
    "\n",
    "while True:\n",
    "    state = choices(flip_states, weights=flip_probs, k = 1)\n",
    "    try: \n",
    "        CoinFlip(*state)\n",
    "    except:\n",
    "        print('Saved')\n",
    "        break\n"
   ]
  },
  {
   "cell_type": "markdown",
   "metadata": {},
   "source": [
    "## Alias"
   ]
  },
  {
   "cell_type": "markdown",
   "metadata": {},
   "source": [
    "When an enum have members who share the same value, the first member is the main one while others are aliases of the main member."
   ]
  },
  {
   "cell_type": "code",
   "execution_count": 9,
   "metadata": {},
   "outputs": [],
   "source": [
    "from enum import Enum\n",
    "\n",
    "class ResponseCode(Enum):\n",
    "    PENDING = 1\n",
    "    REQUESTING = 1\n",
    "    IN_PROGRESS = 1\n"
   ]
  },
  {
   "cell_type": "code",
   "execution_count": 10,
   "metadata": {},
   "outputs": [
    {
     "data": {
      "text/plain": [
       "<ResponseCode.PENDING: 1>"
      ]
     },
     "execution_count": 10,
     "metadata": {},
     "output_type": "execute_result"
    }
   ],
   "source": [
    "ResponseCode.PENDING"
   ]
  },
  {
   "cell_type": "code",
   "execution_count": 11,
   "metadata": {},
   "outputs": [
    {
     "data": {
      "text/plain": [
       "<ResponseCode.PENDING: 1>"
      ]
     },
     "execution_count": 11,
     "metadata": {},
     "output_type": "execute_result"
    }
   ],
   "source": [
    "ResponseCode.REQUESTING"
   ]
  },
  {
   "cell_type": "code",
   "execution_count": 12,
   "metadata": {},
   "outputs": [
    {
     "data": {
      "text/plain": [
       "<ResponseCode.PENDING: 1>"
      ]
     },
     "execution_count": 12,
     "metadata": {},
     "output_type": "execute_result"
    }
   ],
   "source": [
    "ResponseCode.IN_PROGRESS"
   ]
  },
  {
   "cell_type": "code",
   "execution_count": 13,
   "metadata": {},
   "outputs": [
    {
     "data": {
      "text/plain": [
       "True"
      ]
     },
     "execution_count": 13,
     "metadata": {},
     "output_type": "execute_result"
    }
   ],
   "source": [
    "ResponseCode.REQUESTING is ResponseCode.PENDING"
   ]
  },
  {
   "cell_type": "code",
   "execution_count": 14,
   "metadata": {},
   "outputs": [
    {
     "data": {
      "text/plain": [
       "True"
      ]
     },
     "execution_count": 14,
     "metadata": {},
     "output_type": "execute_result"
    }
   ],
   "source": [
    "ResponseCode.IN_PROGRESS == ResponseCode.PENDING"
   ]
  },
  {
   "cell_type": "code",
   "execution_count": null,
   "metadata": {},
   "outputs": [
    {
     "data": {
      "text/plain": [
       "<ResponseCode.PENDING: 1>"
      ]
     },
     "metadata": {},
     "output_type": "display_data"
    }
   ],
   "source": [
    "ResponseCode(1)"
   ]
  },
  {
   "cell_type": "code",
   "execution_count": 16,
   "metadata": {},
   "outputs": [
    {
     "data": {
      "text/plain": [
       "[<ResponseCode.PENDING: 1>]"
      ]
     },
     "execution_count": 16,
     "metadata": {},
     "output_type": "execute_result"
    }
   ],
   "source": [
    "list(ResponseCode)"
   ]
  },
  {
   "cell_type": "markdown",
   "metadata": {},
   "source": [
    "Use attribute `__members__` to get all members including aliases."
   ]
  },
  {
   "cell_type": "code",
   "execution_count": 19,
   "metadata": {},
   "outputs": [
    {
     "name": "stdout",
     "output_type": "stream",
     "text": [
      "mappingproxy({'IN_PROGRESS': <ResponseCode.PENDING: 1>,\n",
      "              'PENDING': <ResponseCode.PENDING: 1>,\n",
      "              'REQUESTING': <ResponseCode.PENDING: 1>})\n"
     ]
    }
   ],
   "source": [
    "from pprint import pprint\n",
    "\n",
    "pprint(ResponseCode.__members__)"
   ]
  },
  {
   "cell_type": "markdown",
   "metadata": {},
   "source": [
    "Enum aliases can be useful if use want to represent a value by many names."
   ]
  },
  {
   "cell_type": "code",
   "execution_count": 20,
   "metadata": {},
   "outputs": [],
   "source": [
    "from enum import Enum\n",
    "\n",
    "class StatusCode(Enum):\n",
    "    # request in-progress\n",
    "    PENDING = 1\n",
    "    SENDED = 1\n",
    "\n",
    "    # request suceess\n",
    "    RESOVLED = 2\n",
    "    RECEIVED = 2\n",
    "\n",
    "    # request error\n",
    "    REJECTED = 3\n",
    "    LOST = 3"
   ]
  },
  {
   "cell_type": "markdown",
   "metadata": {},
   "source": [
    "If you don't want accidentally create aliases then decorate the enumeration class with `enum.unique`. "
   ]
  },
  {
   "cell_type": "code",
   "execution_count": 1,
   "metadata": {},
   "outputs": [
    {
     "name": "stdout",
     "output_type": "stream",
     "text": [
      "duplicate values found in <enum 'DayInWeek'>: TUE -> MON\n"
     ]
    }
   ],
   "source": [
    "from enum import Enum, unique\n",
    "\n",
    "try:\n",
    "    @unique\n",
    "    class DayInWeek(Enum):\n",
    "        MON = 'Monday'\n",
    "        TUE = 'Monday'\n",
    "        WED = 'Wednesday'\n",
    "        THU = 'Thursday'\n",
    "        FRI = 'Friday'\n",
    "        SAT = 'Saturday'\n",
    "        SUN = 'Sunday'\n",
    "except ValueError as err:\n",
    "    print(err)"
   ]
  },
  {
   "cell_type": "markdown",
   "metadata": {},
   "source": [
    "Use `auto()` to get auto increased value starting from 1. "
   ]
  },
  {
   "cell_type": "code",
   "execution_count": 2,
   "metadata": {},
   "outputs": [],
   "source": [
    "from enum import Enum, auto\n",
    "\n",
    "\n",
    "class State(Enum):\n",
    "    PENDING = auto()\n",
    "    FULFILLED = auto()\n",
    "    REJECTED = auto()\n",
    "\n",
    "    def __str__(self) -> str:\n",
    "        return f'{self.name} {self.value}'"
   ]
  },
  {
   "cell_type": "code",
   "execution_count": 3,
   "metadata": {},
   "outputs": [
    {
     "ename": "TypeError",
     "evalue": "'str' object is not callable",
     "output_type": "error",
     "traceback": [
      "\u001b[1;31m---------------------------------------------------------------------------\u001b[0m",
      "\u001b[1;31mTypeError\u001b[0m                                 Traceback (most recent call last)",
      "\u001b[1;32md:\\Tutorial\\python\\basics\\Classes.ipynb Cell 304\u001b[0m in \u001b[0;36m<cell line: 1>\u001b[1;34m()\u001b[0m\n\u001b[0;32m      <a href='vscode-notebook-cell:/d%3A/Tutorial/python/basics/Classes.ipynb#Y614sZmlsZQ%3D%3D?line=0'>1</a>\u001b[0m \u001b[39mfor\u001b[39;00m state \u001b[39min\u001b[39;00m State:\n\u001b[1;32m----> <a href='vscode-notebook-cell:/d%3A/Tutorial/python/basics/Classes.ipynb#Y614sZmlsZQ%3D%3D?line=1'>2</a>\u001b[0m     \u001b[39mprint\u001b[39;49m(state)\n",
      "\u001b[1;32md:\\Tutorial\\python\\basics\\Classes.ipynb Cell 304\u001b[0m in \u001b[0;36mState.__str__\u001b[1;34m(self)\u001b[0m\n\u001b[0;32m      <a href='vscode-notebook-cell:/d%3A/Tutorial/python/basics/Classes.ipynb#Y614sZmlsZQ%3D%3D?line=8'>9</a>\u001b[0m \u001b[39mdef\u001b[39;00m \u001b[39m__str__\u001b[39m(\u001b[39mself\u001b[39m) \u001b[39m-\u001b[39m\u001b[39m>\u001b[39m \u001b[39mstr\u001b[39m:\n\u001b[1;32m---> <a href='vscode-notebook-cell:/d%3A/Tutorial/python/basics/Classes.ipynb#Y614sZmlsZQ%3D%3D?line=9'>10</a>\u001b[0m     \u001b[39mreturn\u001b[39;00m \u001b[39mf\u001b[39m\u001b[39m'\u001b[39m\u001b[39m{\u001b[39;00m\u001b[39mself\u001b[39m\u001b[39m.\u001b[39mname(\u001b[39mself\u001b[39m\u001b[39m.\u001b[39mvalue)\u001b[39m}\u001b[39;00m\u001b[39m'\u001b[39m\n",
      "\u001b[1;31mTypeError\u001b[0m: 'str' object is not callable"
     ]
    }
   ],
   "source": [
    "for state in State:\n",
    "    print(state)"
   ]
  },
  {
   "cell_type": "code",
   "execution_count": null,
   "metadata": {},
   "outputs": [],
   "source": []
  }
 ],
 "metadata": {
  "kernelspec": {
   "display_name": "Python 3.10.5 ('.venv': venv)",
   "language": "python",
   "name": "python3"
  },
  "language_info": {
   "codemirror_mode": {
    "name": "ipython",
    "version": 3
   },
   "file_extension": ".py",
   "mimetype": "text/x-python",
   "name": "python",
   "nbconvert_exporter": "python",
   "pygments_lexer": "ipython3",
   "version": "3.10.5"
  },
  "orig_nbformat": 4,
  "vscode": {
   "interpreter": {
    "hash": "f4cc3fd6211c08f2fbffc7f21494e2babf0f6e4823a46e482e17b88c97237f90"
   }
  }
 },
 "nbformat": 4,
 "nbformat_minor": 2
}
