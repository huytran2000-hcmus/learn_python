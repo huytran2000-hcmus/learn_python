{
 "cells": [
  {
   "cell_type": "markdown",
   "id": "959ec4b1-e4de-4c88-a899-c3b463d8fdc8",
   "metadata": {
    "jp-MarkdownHeadingCollapsed": true,
    "tags": []
   },
   "source": [
    "# Constants"
   ]
  },
  {
   "cell_type": "code",
   "execution_count": 1,
   "id": "c49129a4-5da1-4b76-8110-b0813c25b835",
   "metadata": {},
   "outputs": [
    {
     "data": {
      "text/plain": [
       "False"
      ]
     },
     "execution_count": 1,
     "metadata": {},
     "output_type": "execute_result"
    }
   ],
   "source": [
    "False"
   ]
  },
  {
   "cell_type": "code",
   "execution_count": 4,
   "id": "e0aa68b6-8ef1-4a47-b09e-3e4654d94de3",
   "metadata": {},
   "outputs": [
    {
     "data": {
      "text/plain": [
       "True"
      ]
     },
     "execution_count": 4,
     "metadata": {},
     "output_type": "execute_result"
    }
   ],
   "source": [
    "True"
   ]
  },
  {
   "cell_type": "code",
   "execution_count": 5,
   "id": "6ffd7064-72e4-4457-9685-a6c274c66dc2",
   "metadata": {},
   "outputs": [],
   "source": [
    "# Represent the absence of a value\n",
    "None"
   ]
  },
  {
   "cell_type": "code",
   "execution_count": 7,
   "id": "8d7b3459-f943-4ca4-886b-c4e79987ec3f",
   "metadata": {},
   "outputs": [
    {
     "data": {
      "text/plain": [
       "NotImplemented"
      ]
     },
     "execution_count": 7,
     "metadata": {},
     "output_type": "execute_result"
    }
   ],
   "source": [
    "# Return by the binary special methods to indicate that operation is not implemented\n",
    "# If all atempts return NotImplemented, the interpreter will raise error\n",
    "NotImplemented"
   ]
  },
  {
   "cell_type": "code",
   "execution_count": 15,
   "id": "bdc08b0f-d713-477f-8baf-91b04187b7dd",
   "metadata": {},
   "outputs": [
    {
     "name": "stdout",
     "output_type": "stream",
     "text": [
      "Ellipsis\n"
     ]
    }
   ],
   "source": [
    "# Use in slicing syntax(In numpy to jump over some dimensions)\n",
    "print(...)"
   ]
  },
  {
   "cell_type": "code",
   "execution_count": 26,
   "id": "36106240-db1d-47c5-b20e-d355c7b29f1a",
   "metadata": {},
   "outputs": [
    {
     "name": "stdout",
     "output_type": "stream",
     "text": [
      "True\n",
      "False\n"
     ]
    }
   ],
   "source": [
    "print(__debug__)\n",
    "# Use to check if Python was not started with an -0 flag.\n",
    "!python -O -c \"print(__debug__)\""
   ]
  },
  {
   "cell_type": "markdown",
   "id": "d39b6eec-f1bb-43da-98b1-26dc3209f71b",
   "metadata": {
    "jp-MarkdownHeadingCollapsed": true,
    "tags": []
   },
   "source": [
    "# True Value Testing"
   ]
  },
  {
   "cell_type": "markdown",
   "id": "dd684899-3589-4105-b59b-5672c89c44af",
   "metadata": {},
   "source": [
    "**Constants define to be false**"
   ]
  },
  {
   "cell_type": "code",
   "execution_count": 37,
   "id": "caf2a164-3944-4fef-95ff-3149335d5277",
   "metadata": {},
   "outputs": [
    {
     "data": {
      "text/plain": [
       "False"
      ]
     },
     "execution_count": 37,
     "metadata": {},
     "output_type": "execute_result"
    }
   ],
   "source": [
    "None\n",
    "bool(None)"
   ]
  },
  {
   "cell_type": "code",
   "execution_count": 38,
   "id": "5aae9a52-7633-4dae-924f-8668a297e620",
   "metadata": {},
   "outputs": [
    {
     "data": {
      "text/plain": [
       "False"
      ]
     },
     "execution_count": 38,
     "metadata": {},
     "output_type": "execute_result"
    }
   ],
   "source": [
    "False"
   ]
  },
  {
   "cell_type": "markdown",
   "id": "71aaab16-3b4b-44a1-984e-1c3ee0dc9f55",
   "metadata": {},
   "source": [
    "**Zero of any numeric type**"
   ]
  },
  {
   "cell_type": "code",
   "execution_count": 39,
   "id": "94425129-1acd-49a3-926e-3e73ffd266e8",
   "metadata": {},
   "outputs": [
    {
     "data": {
      "text/plain": [
       "False"
      ]
     },
     "execution_count": 39,
     "metadata": {},
     "output_type": "execute_result"
    }
   ],
   "source": [
    "bool(0)"
   ]
  },
  {
   "cell_type": "code",
   "execution_count": 40,
   "id": "181fded8-adae-4fe2-b934-650e062e86da",
   "metadata": {},
   "outputs": [
    {
     "data": {
      "text/plain": [
       "False"
      ]
     },
     "execution_count": 40,
     "metadata": {},
     "output_type": "execute_result"
    }
   ],
   "source": [
    "bool(0.0)"
   ]
  },
  {
   "cell_type": "code",
   "execution_count": 41,
   "id": "de5b9e6c-16db-4d9f-a9db-3756838630cc",
   "metadata": {},
   "outputs": [
    {
     "data": {
      "text/plain": [
       "False"
      ]
     },
     "execution_count": 41,
     "metadata": {},
     "output_type": "execute_result"
    }
   ],
   "source": [
    "bool(0j)"
   ]
  },
  {
   "cell_type": "markdown",
   "id": "07980473-c75e-455e-beab-a7b4b0c8daec",
   "metadata": {},
   "source": [
    "**Empty sequences and collections**"
   ]
  },
  {
   "cell_type": "code",
   "execution_count": 46,
   "id": "19598626-8293-405c-9b3a-6d16c9c17314",
   "metadata": {},
   "outputs": [
    {
     "data": {
      "text/plain": [
       "False"
      ]
     },
     "execution_count": 46,
     "metadata": {},
     "output_type": "execute_result"
    }
   ],
   "source": [
    "bool('')"
   ]
  },
  {
   "cell_type": "code",
   "execution_count": 43,
   "id": "2ce0543b-ee5a-482d-aeee-7c5906183110",
   "metadata": {},
   "outputs": [
    {
     "data": {
      "text/plain": [
       "False"
      ]
     },
     "execution_count": 43,
     "metadata": {},
     "output_type": "execute_result"
    }
   ],
   "source": [
    "bool([])"
   ]
  },
  {
   "cell_type": "code",
   "execution_count": 44,
   "id": "6303ee80-e15d-4cda-8010-e434632498f3",
   "metadata": {},
   "outputs": [
    {
     "data": {
      "text/plain": [
       "False"
      ]
     },
     "execution_count": 44,
     "metadata": {},
     "output_type": "execute_result"
    }
   ],
   "source": [
    "bool({})"
   ]
  },
  {
   "cell_type": "code",
   "execution_count": 45,
   "id": "ddd14cbb-cabe-4148-8f2b-71fa59048a23",
   "metadata": {},
   "outputs": [
    {
     "data": {
      "text/plain": [
       "False"
      ]
     },
     "execution_count": 45,
     "metadata": {},
     "output_type": "execute_result"
    }
   ],
   "source": [
    "bool(())"
   ]
  },
  {
   "cell_type": "code",
   "execution_count": 47,
   "id": "4e76bead-7322-4b74-b7d9-f1ce64f71424",
   "metadata": {},
   "outputs": [
    {
     "data": {
      "text/plain": [
       "False"
      ]
     },
     "execution_count": 47,
     "metadata": {},
     "output_type": "execute_result"
    }
   ],
   "source": [
    "bool(set())"
   ]
  },
  {
   "cell_type": "code",
   "execution_count": 48,
   "id": "fcce7fd3-884c-4feb-8617-c6a96dd89b6a",
   "metadata": {},
   "outputs": [
    {
     "data": {
      "text/plain": [
       "False"
      ]
     },
     "execution_count": 48,
     "metadata": {},
     "output_type": "execute_result"
    }
   ],
   "source": [
    "bool(range(0))"
   ]
  },
  {
   "cell_type": "markdown",
   "id": "01b611b8-6709-4b7f-97e3-27cbbbef150b",
   "metadata": {},
   "source": [
    "|Operation|Result|\n",
    "|:---------|:-----|\n",
    "|x or y|if x false, then y, else x|\n",
    "|x and y| if x true, then y, else x|\n",
    "|not x| if x is false return True, else False|"
   ]
  },
  {
   "cell_type": "markdown",
   "id": "92679853",
   "metadata": {},
   "source": [
    "Priority: not > and > or\\\n",
    "A and not B or C = (A and (not B)) or C"
   ]
  },
  {
   "cell_type": "code",
   "execution_count": 52,
   "id": "797360cb-5893-44b0-a4bb-f5c6ea6695de",
   "metadata": {},
   "outputs": [
    {
     "name": "stdout",
     "output_type": "stream",
     "text": [
      "not empty\n",
      "[]\n"
     ]
    }
   ],
   "source": [
    "# and, or will return the decidable value\n",
    "not_empty_str = '' or 'not empty'\n",
    "print(not_empty_str)\n",
    "empty_list = [1] and []\n",
    "print(empty_list)"
   ]
  },
  {
   "cell_type": "markdown",
   "id": "297f2a6c-8dac-4a9d-86cb-d264c2555572",
   "metadata": {
    "jp-MarkdownHeadingCollapsed": true,
    "tags": []
   },
   "source": [
    "# Comparisions"
   ]
  },
  {
   "cell_type": "markdown",
   "id": "09384c54-8203-4f47-a7c1-f77028abbc29",
   "metadata": {},
   "source": [
    "|Operation|Meaning|\n",
    "|:--------|:------|\n",
    "|`<`|less than|\n",
    "|`<=`|equal or less than|\n",
    "|`>`|greater than|\n",
    "|`>=`|equal or greater than|\n",
    "|`==`|equal|\n",
    "|`!=`|not equal|\n",
    "|`is`|object identity|\n",
    "|`is not`|negated object identity|"
   ]
  },
  {
   "cell_type": "markdown",
   "id": "ad4c88cb",
   "metadata": {},
   "source": [
    "Objects of different types, except different numeric types, never compare equal.\\\n",
    "Comparision can be chain.\\\n",
    "Sequence comparision use lexicographical ordering: first the first two items are compared, and if differ this determines the outcome; if they equal, the next two items are compared, and so on, until either sequence is exhausted."
   ]
  },
  {
   "cell_type": "code",
   "execution_count": 57,
   "id": "e0faa00d-10d6-4104-8363-2d12b4eec416",
   "metadata": {},
   "outputs": [
    {
     "name": "stdout",
     "output_type": "stream",
     "text": [
      "False\n",
      "True\n"
     ]
    }
   ],
   "source": [
    "print(2 < 1)\n",
    "print(2 < 3)"
   ]
  },
  {
   "cell_type": "code",
   "execution_count": 58,
   "id": "c0e21f24-654c-4c50-896b-a2c2dbb44e74",
   "metadata": {},
   "outputs": [
    {
     "name": "stdout",
     "output_type": "stream",
     "text": [
      "False\n",
      "True\n",
      "True\n"
     ]
    }
   ],
   "source": [
    "print(2 <= 1)\n",
    "print(2 <= 2)\n",
    "print(2 <= 3)"
   ]
  },
  {
   "cell_type": "code",
   "execution_count": 59,
   "id": "412c8b2e-ae35-46dd-8073-67233c20cb42",
   "metadata": {},
   "outputs": [
    {
     "name": "stdout",
     "output_type": "stream",
     "text": [
      "True\n",
      "False\n"
     ]
    }
   ],
   "source": [
    "print(5 > 3)\n",
    "print(5 > 7)"
   ]
  },
  {
   "cell_type": "code",
   "execution_count": 60,
   "id": "eacc48c1-d827-4297-b827-555e18f47281",
   "metadata": {},
   "outputs": [
    {
     "name": "stdout",
     "output_type": "stream",
     "text": [
      "True\n",
      "True\n",
      "False\n"
     ]
    }
   ],
   "source": [
    "print(5 >= 4)\n",
    "print(5 >= 5)\n",
    "print(5 >= 7)"
   ]
  },
  {
   "cell_type": "code",
   "execution_count": 61,
   "id": "23e66d0d-8aae-484d-b19a-ef7ca13fa2d0",
   "metadata": {},
   "outputs": [
    {
     "name": "stdout",
     "output_type": "stream",
     "text": [
      "False\n",
      "True\n"
     ]
    }
   ],
   "source": [
    "print(5 == 6)\n",
    "print(5 == 5)"
   ]
  },
  {
   "cell_type": "code",
   "execution_count": 62,
   "id": "27eccb97-9b95-4840-90f5-9732d9ee6a82",
   "metadata": {},
   "outputs": [
    {
     "name": "stdout",
     "output_type": "stream",
     "text": [
      "True\n",
      "False\n"
     ]
    }
   ],
   "source": [
    "print(5 != 3)\n",
    "print(5 != 5)"
   ]
  },
  {
   "cell_type": "code",
   "execution_count": 67,
   "id": "c330ee64-444b-4490-8355-2686b35db93e",
   "metadata": {},
   "outputs": [
    {
     "data": {
      "text/plain": [
       "False"
      ]
     },
     "execution_count": 67,
     "metadata": {},
     "output_type": "execute_result"
    }
   ],
   "source": [
    "[1, 2] is [1, 2]"
   ]
  },
  {
   "cell_type": "code",
   "execution_count": 68,
   "id": "f7bdb990-5f9f-42a8-a566-5d317054d4e8",
   "metadata": {},
   "outputs": [
    {
     "data": {
      "text/plain": [
       "True"
      ]
     },
     "execution_count": 68,
     "metadata": {},
     "output_type": "execute_result"
    }
   ],
   "source": [
    "[1, 2] is not [1, 2]"
   ]
  },
  {
   "cell_type": "code",
   "execution_count": null,
   "id": "8395f7eb",
   "metadata": {},
   "outputs": [
    {
     "data": {
      "text/plain": [
       "True"
      ]
     },
     "metadata": {},
     "output_type": "display_data"
    }
   ],
   "source": [
    "1 < 2 !=3"
   ]
  },
  {
   "cell_type": "code",
   "execution_count": 162,
   "id": "b15ee230",
   "metadata": {},
   "outputs": [
    {
     "data": {
      "text/plain": [
       "True"
      ]
     },
     "execution_count": 162,
     "metadata": {},
     "output_type": "execute_result"
    }
   ],
   "source": [
    "(1, 2, 3) < (1, 2, 4)"
   ]
  },
  {
   "cell_type": "code",
   "execution_count": 163,
   "id": "78628d7f",
   "metadata": {},
   "outputs": [
    {
     "data": {
      "text/plain": [
       "True"
      ]
     },
     "execution_count": 163,
     "metadata": {},
     "output_type": "execute_result"
    }
   ],
   "source": [
    "(1, 2, 3) < (1, 2, 3, 4)"
   ]
  },
  {
   "cell_type": "markdown",
   "id": "64238e34-86fc-427a-9eae-7f74f63f386a",
   "metadata": {},
   "source": [
    "**Object of different type(except numeric types) never compare equal. The `==` is always define but for some is object types is equal to `is`.**"
   ]
  },
  {
   "cell_type": "markdown",
   "id": "20d97699-f567-49bc-8c12-9984d4660e34",
   "metadata": {},
   "source": [
    "**Define `__lt__()`, `__le__()`, `__gt__`, `__ge__()`(or `__lt__()`, `__eq__()`) to compare between instance of a class.**"
   ]
  },
  {
   "cell_type": "markdown",
   "id": "17aebd7f-8b84-4329-ab6a-d0685719d6a1",
   "metadata": {},
   "source": [
    "**`is` and `is not` cannot be customized.**"
   ]
  },
  {
   "cell_type": "markdown",
   "id": "89dbb873-135c-4477-b436-a1bba05e80be",
   "metadata": {
    "jp-MarkdownHeadingCollapsed": true,
    "tags": []
   },
   "source": [
    "# Numeric Types"
   ]
  },
  {
   "cell_type": "markdown",
   "id": "fa681510-3327-4532-90f5-204bd50c8c54",
   "metadata": {},
   "source": [
    "**There are three distinct numeric types: integers, floating point numbers and complex numbers.**"
   ]
  },
  {
   "cell_type": "code",
   "execution_count": 70,
   "id": "38f9dd10-5eb9-4a8e-a739-8fdc03129b41",
   "metadata": {},
   "outputs": [
    {
     "data": {
      "text/plain": [
       "int"
      ]
     },
     "execution_count": 70,
     "metadata": {},
     "output_type": "execute_result"
    }
   ],
   "source": [
    "type(10)"
   ]
  },
  {
   "cell_type": "code",
   "execution_count": 71,
   "id": "ddd6f016-e6a6-4664-9d1d-a845d6652812",
   "metadata": {},
   "outputs": [
    {
     "data": {
      "text/plain": [
       "float"
      ]
     },
     "execution_count": 71,
     "metadata": {},
     "output_type": "execute_result"
    }
   ],
   "source": [
    "type(10.0)"
   ]
  },
  {
   "cell_type": "code",
   "execution_count": 91,
   "id": "9fbbc9ba-69f3-43bc-9eea-31167e9ad120",
   "metadata": {},
   "outputs": [
    {
     "data": {
      "text/plain": [
       "float"
      ]
     },
     "execution_count": 91,
     "metadata": {},
     "output_type": "execute_result"
    }
   ],
   "source": [
    "type(10e1)"
   ]
  },
  {
   "cell_type": "code",
   "execution_count": 72,
   "id": "a2e3f712-3e00-4d71-8d47-b7fcedb63a62",
   "metadata": {},
   "outputs": [
    {
     "data": {
      "text/plain": [
       "complex"
      ]
     },
     "execution_count": 72,
     "metadata": {},
     "output_type": "execute_result"
    }
   ],
   "source": [
    "type (10 + 0j)"
   ]
  },
  {
   "cell_type": "code",
   "execution_count": 92,
   "id": "46854c78-a9e4-48b4-b8ec-c0cb58185275",
   "metadata": {},
   "outputs": [
    {
     "data": {
      "text/plain": [
       "complex"
      ]
     },
     "execution_count": 92,
     "metadata": {},
     "output_type": "execute_result"
    }
   ],
   "source": [
    "type(0J)"
   ]
  },
  {
   "cell_type": "markdown",
   "id": "b57ced42-e1ff-4078-a485-3377ed4660a1",
   "metadata": {},
   "source": [
    "**Integers have unlimited precision.**"
   ]
  },
  {
   "cell_type": "code",
   "execution_count": 85,
   "id": "56f9f314-9fe1-4a95-ae2e-2d255abc33a2",
   "metadata": {},
   "outputs": [
    {
     "data": {
      "text/plain": [
       "9223372036854775807"
      ]
     },
     "execution_count": 85,
     "metadata": {},
     "output_type": "execute_result"
    }
   ],
   "source": [
    "import sys\n",
    "sys.maxsize"
   ]
  },
  {
   "cell_type": "code",
   "execution_count": 77,
   "id": "7c57febf-c14a-4aee-bdaa-982865c78932",
   "metadata": {},
   "outputs": [
    {
     "data": {
      "text/plain": [
       "10000000000"
      ]
     },
     "execution_count": 77,
     "metadata": {},
     "output_type": "execute_result"
    }
   ],
   "source": [
    "10**10"
   ]
  },
  {
   "cell_type": "code",
   "execution_count": 78,
   "id": "c5bb5eca-ae41-4861-9bc1-19498aeac315",
   "metadata": {},
   "outputs": [
    {
     "data": {
      "text/plain": [
       "10000000000000000000000000000000000000000000000000000000000000000000000000000000000000000000000000000"
      ]
     },
     "execution_count": 78,
     "metadata": {},
     "output_type": "execute_result"
    }
   ],
   "source": [
    "10**100"
   ]
  },
  {
   "cell_type": "code",
   "execution_count": 79,
   "id": "22b33785-45ec-48b7-8b0f-0708bd2172a3",
   "metadata": {},
   "outputs": [
    {
     "data": {
      "text/plain": [
       "10000000000000000000000000000000000000000000000000000000000000000000000000000000000000000000000000000000000000000000000000000000000000000000000000000000000000000000000000000000000000000000000000000000000000000000000000000000000000000000000000000000000000000000000000000000000000000000000000000000000000000000000000000000000000000000000000000000000000000000000000000000000000000000000000000000000000000000000000000000000000000000000000000000000000000000000000000000000000000000000000000000000000000000000000000000000000000000000000000000000000000000000000000000000000000000000000000000000000000000000000000000000000000000000000000000000000000000000000000000000000000000000000000000000000000000000000000000000000000000000000000000000000000000000000000000000000000000000000000000000000000000000000000000000000000000000000000000000000000000000000000000000000000000000000000000000000000000000000000000000000000000000000000000000000000000000000000000000000000000000000000000000000000000000000000000000000000"
      ]
     },
     "execution_count": 79,
     "metadata": {},
     "output_type": "execute_result"
    }
   ],
   "source": [
    "10**1000"
   ]
  },
  {
   "cell_type": "markdown",
   "id": "fbbe76eb-1fa1-49ce-a0a0-fe69fdb9a687",
   "metadata": {},
   "source": [
    "**Floating point numbers are usually implemented using double in C(IEEE754).**"
   ]
  },
  {
   "cell_type": "code",
   "execution_count": 89,
   "id": "6d778b74-1dd4-4736-98bb-98eabe51c567",
   "metadata": {},
   "outputs": [
    {
     "data": {
      "text/plain": [
       "sys.float_info(max=1.7976931348623157e+308, max_exp=1024, max_10_exp=308, min=2.2250738585072014e-308, min_exp=-1021, min_10_exp=-307, dig=15, mant_dig=53, epsilon=2.220446049250313e-16, radix=2, rounds=1)"
      ]
     },
     "execution_count": 89,
     "metadata": {},
     "output_type": "execute_result"
    }
   ],
   "source": [
    "sys.float_info"
   ]
  },
  {
   "cell_type": "markdown",
   "id": "71208b73-92aa-4e79-a6a5-cabd9ef7cf7c",
   "metadata": {},
   "source": [
    "|Operation|Meaning|\n",
    "|:--------|:------|\n",
    "|`x + y`|sum of x and y|\n",
    "|`x - y`|difference of x and y|\n",
    "|`x * y`|product of x and y|\n",
    "|`x / y`|quotient of x and y|\n",
    "|`x // y`|floored quotient of x and y|\n",
    "|`x % y`|remainder of `x/y`|\n",
    "|`divmod(x, y)`|return `(x//y, x%y)`|\n",
    "|`x**y`|x to the power y|\n",
    "|`pow(x, y)`|x to the power y|\n",
    "|`-x`|x negated|\n",
    "|`+x`|x unchanged|\n",
    "|`abs(x)`|magnitude of x|\n",
    "|`int(x)`|x converted to integer|\n",
    "|`float(x)`|x converted to float|"
   ]
  },
  {
   "cell_type": "code",
   "execution_count": 93,
   "id": "a5ef3510-1762-426c-8856-1b72c6957d40",
   "metadata": {},
   "outputs": [
    {
     "data": {
      "text/plain": [
       "3"
      ]
     },
     "execution_count": 93,
     "metadata": {},
     "output_type": "execute_result"
    }
   ],
   "source": [
    "1 + 2"
   ]
  },
  {
   "cell_type": "code",
   "execution_count": 94,
   "id": "44a75b99-f2fb-4541-ba0e-300260e05bb5",
   "metadata": {},
   "outputs": [
    {
     "data": {
      "text/plain": [
       "1"
      ]
     },
     "execution_count": 94,
     "metadata": {},
     "output_type": "execute_result"
    }
   ],
   "source": [
    "2 - 1"
   ]
  },
  {
   "cell_type": "code",
   "execution_count": 95,
   "id": "30d752f7-2d45-46bc-9c82-d1c582cd48b4",
   "metadata": {},
   "outputs": [
    {
     "data": {
      "text/plain": [
       "18"
      ]
     },
     "execution_count": 95,
     "metadata": {},
     "output_type": "execute_result"
    }
   ],
   "source": [
    "3 * 6"
   ]
  },
  {
   "cell_type": "code",
   "execution_count": 96,
   "id": "9313cd7d-ac6e-4cbf-89a3-f6de82db5b6d",
   "metadata": {},
   "outputs": [
    {
     "data": {
      "text/plain": [
       "2.3333333333333335"
      ]
     },
     "execution_count": 96,
     "metadata": {},
     "output_type": "execute_result"
    }
   ],
   "source": [
    "7 / 3"
   ]
  },
  {
   "cell_type": "code",
   "execution_count": 97,
   "id": "9532b64b-02de-47a3-812e-49240a251e91",
   "metadata": {},
   "outputs": [
    {
     "data": {
      "text/plain": [
       "2"
      ]
     },
     "execution_count": 97,
     "metadata": {},
     "output_type": "execute_result"
    }
   ],
   "source": [
    "7 // 3"
   ]
  },
  {
   "cell_type": "code",
   "execution_count": 101,
   "id": "5c30d122-7058-433a-8d7b-8f927d85834f",
   "metadata": {},
   "outputs": [
    {
     "data": {
      "text/plain": [
       "2.0"
      ]
     },
     "execution_count": 101,
     "metadata": {},
     "output_type": "execute_result"
    }
   ],
   "source": [
    "7.1 // 3.1"
   ]
  },
  {
   "cell_type": "code",
   "execution_count": 105,
   "id": "bc09317c-ed0d-4cc8-bb4e-c0fd4aea11a8",
   "metadata": {},
   "outputs": [
    {
     "data": {
      "text/plain": [
       "0"
      ]
     },
     "execution_count": 105,
     "metadata": {},
     "output_type": "execute_result"
    }
   ],
   "source": [
    "1 // 2"
   ]
  },
  {
   "cell_type": "code",
   "execution_count": 106,
   "id": "41e24f55-cf93-41d4-af6e-08c1875b8cff",
   "metadata": {},
   "outputs": [
    {
     "data": {
      "text/plain": [
       "-1"
      ]
     },
     "execution_count": 106,
     "metadata": {},
     "output_type": "execute_result"
    }
   ],
   "source": [
    "-1 // 2 "
   ]
  },
  {
   "cell_type": "code",
   "execution_count": 98,
   "id": "4953e4cc-34d5-487a-9246-03295d3ee18a",
   "metadata": {},
   "outputs": [
    {
     "data": {
      "text/plain": [
       "1"
      ]
     },
     "execution_count": 98,
     "metadata": {},
     "output_type": "execute_result"
    }
   ],
   "source": [
    "7 % 3"
   ]
  },
  {
   "cell_type": "code",
   "execution_count": 107,
   "id": "79c8eaa3-e672-4c01-b6b3-38442aa1639d",
   "metadata": {},
   "outputs": [
    {
     "data": {
      "text/plain": [
       "(2, 1)"
      ]
     },
     "execution_count": 107,
     "metadata": {},
     "output_type": "execute_result"
    }
   ],
   "source": [
    "divmod(7, 3)"
   ]
  },
  {
   "cell_type": "code",
   "execution_count": 108,
   "id": "13fe8bbd-3b84-4ed1-8fa2-20ea60158041",
   "metadata": {},
   "outputs": [
    {
     "data": {
      "text/plain": [
       "343"
      ]
     },
     "execution_count": 108,
     "metadata": {},
     "output_type": "execute_result"
    }
   ],
   "source": [
    "7**3"
   ]
  },
  {
   "cell_type": "code",
   "execution_count": null,
   "id": "20c64b58-9084-4554-bcbe-427c7684dd2a",
   "metadata": {},
   "outputs": [
    {
     "data": {
      "text/plain": [
       "343"
      ]
     },
     "execution_count": 109,
     "metadata": {},
     "output_type": "execute_result"
    }
   ],
   "source": [
    "pow(7, 3)"
   ]
  },
  {
   "cell_type": "code",
   "execution_count": null,
   "id": "ec400a47-2ea1-4c0f-b8aa-d7c074779098",
   "metadata": {},
   "outputs": [
    {
     "data": {
      "text/plain": [
       "7.5"
      ]
     },
     "execution_count": 119,
     "metadata": {},
     "output_type": "execute_result"
    }
   ],
   "source": [
    "abs(-7.5)"
   ]
  },
  {
   "cell_type": "code",
   "execution_count": null,
   "id": "a006a3ef-b915-4cc7-b36b-739e3be69de4",
   "metadata": {},
   "outputs": [
    {
     "data": {
      "text/plain": [
       "-7"
      ]
     },
     "execution_count": 111,
     "metadata": {},
     "output_type": "execute_result"
    }
   ],
   "source": [
    "x = 7\n",
    "-x"
   ]
  },
  {
   "cell_type": "code",
   "execution_count": 112,
   "id": "30bbeb64-a3d2-44df-93cc-5498513fb86a",
   "metadata": {},
   "outputs": [
    {
     "data": {
      "text/plain": [
       "7"
      ]
     },
     "execution_count": 112,
     "metadata": {},
     "output_type": "execute_result"
    }
   ],
   "source": [
    "+x"
   ]
  },
  {
   "cell_type": "code",
   "execution_count": 113,
   "id": "3bab6eb8-d7f8-4401-b9da-369bbca1860e",
   "metadata": {},
   "outputs": [
    {
     "data": {
      "text/plain": [
       "7.0"
      ]
     },
     "execution_count": 113,
     "metadata": {},
     "output_type": "execute_result"
    }
   ],
   "source": [
    "x = float(x)\n",
    "x"
   ]
  },
  {
   "cell_type": "code",
   "execution_count": 114,
   "id": "4763541c-3fc7-4e20-8a4d-32a54724a99e",
   "metadata": {},
   "outputs": [
    {
     "data": {
      "text/plain": [
       "7"
      ]
     },
     "execution_count": 114,
     "metadata": {},
     "output_type": "execute_result"
    }
   ],
   "source": [
    "int(x)"
   ]
  },
  {
   "cell_type": "code",
   "execution_count": 1,
   "id": "e7580284-de19-4bec-9495-3a1173a89354",
   "metadata": {},
   "outputs": [
    {
     "name": "stdout",
     "output_type": "stream",
     "text": [
      "nan\n"
     ]
    },
    {
     "data": {
      "text/plain": [
       "float"
      ]
     },
     "execution_count": 1,
     "metadata": {},
     "output_type": "execute_result"
    }
   ],
   "source": [
    "type(float(\"nan\"))"
   ]
  },
  {
   "cell_type": "code",
   "execution_count": 3,
   "id": "739a1cb6",
   "metadata": {},
   "outputs": [
    {
     "data": {
      "text/plain": [
       "inf"
      ]
     },
     "execution_count": 3,
     "metadata": {},
     "output_type": "execute_result"
    }
   ],
   "source": [
    "float(\"inf\")"
   ]
  },
  {
   "cell_type": "code",
   "execution_count": 4,
   "id": "2678aa9e",
   "metadata": {},
   "outputs": [
    {
     "data": {
      "text/plain": [
       "-inf"
      ]
     },
     "execution_count": 4,
     "metadata": {},
     "output_type": "execute_result"
    }
   ],
   "source": [
    "float(\"-inf\")"
   ]
  },
  {
   "cell_type": "markdown",
   "id": "6ff4e580-796f-41ef-93d8-9f4910529d49",
   "metadata": {},
   "source": [
    "# Sequence Types"
   ]
  },
  {
   "cell_type": "markdown",
   "id": "1bd84a76-4f37-4a2c-8e6d-ed58b4e003d4",
   "metadata": {},
   "source": [
    "**Sequence are iterable that can be indexed using square brackets.**"
   ]
  },
  {
   "cell_type": "markdown",
   "id": "6762786f",
   "metadata": {},
   "source": [
    "**Threre are 3 basics of sequence types: lists, tuples and range objects.**"
   ]
  },
  {
   "cell_type": "markdown",
   "id": "a70cb6b7-6c51-4c76-bdae-63eda0d15344",
   "metadata": {},
   "source": [
    "**Common sequence operations**\n",
    "\n",
    "|Operation|Result|\n",
    "|:--------|:-----|\n",
    "|x in s|True if an item in s is equal to x, else False|\n",
    "|x not in s|False if an item in s is equal to x, else True|\n",
    "|s + t|Concatenate t to s|\n",
    "|s * n or n * s|adding s to itself n times|\n",
    "|s[i]|*i*th item of s|\n",
    "|s[i:j]|slide of s from i to j|\n",
    "|s[i:j:k]|slide of s from i to j with k step|\n",
    "|len(s)|lenght of s|\n",
    "|min(s)|smallest item of s|\n",
    "|max(s)|greatest item of s|\n",
    "|s.index(x[, i[, j]])|index of first occurence of x in s at or after<br> index i and before index y|\n",
    "|s.count(x)|number of occurences of x in s|"
   ]
  },
  {
   "cell_type": "code",
   "execution_count": 6,
   "id": "f14ebd35-3532-4899-bf7b-3495730df45b",
   "metadata": {},
   "outputs": [],
   "source": [
    "s = [1, 2, 3, 4, 5, 6, 6, 7, 8, 9, 10]\n",
    "t = [11, 12]\n",
    "x = 6\n",
    "i = 6\n",
    "j = 10\n",
    "k = 2"
   ]
  },
  {
   "cell_type": "code",
   "execution_count": 19,
   "id": "33b03ee4-7563-483b-b05b-9f52bb7a8610",
   "metadata": {},
   "outputs": [
    {
     "data": {
      "text/plain": [
       "True"
      ]
     },
     "execution_count": 19,
     "metadata": {},
     "output_type": "execute_result"
    }
   ],
   "source": [
    "x in s"
   ]
  },
  {
   "cell_type": "code",
   "execution_count": 20,
   "id": "bb01a5a4-5bf7-4ba7-9c47-c195c83c8db6",
   "metadata": {},
   "outputs": [
    {
     "data": {
      "text/plain": [
       "False"
      ]
     },
     "execution_count": 20,
     "metadata": {},
     "output_type": "execute_result"
    }
   ],
   "source": [
    "x not in s"
   ]
  },
  {
   "cell_type": "code",
   "execution_count": 23,
   "id": "867312df-9c8f-44b0-b74d-3cc48b0a92b1",
   "metadata": {},
   "outputs": [
    {
     "data": {
      "text/plain": [
       "[1, 2, 3, 4, 5, 6, 6, 7, 8, 9, 10, 1, 2, 3, 4, 5, 6, 6, 7, 8, 9, 10]"
      ]
     },
     "execution_count": 23,
     "metadata": {},
     "output_type": "execute_result"
    }
   ],
   "source": [
    "s * 2"
   ]
  },
  {
   "cell_type": "code",
   "execution_count": 24,
   "id": "96c53921-0ca8-43e7-9ca8-40e2118bfbe1",
   "metadata": {},
   "outputs": [
    {
     "data": {
      "text/plain": [
       "[1, 2, 3, 4, 5, 6, 6, 7, 8, 9, 10, 1, 2, 3, 4, 5, 6, 6, 7, 8, 9, 10]"
      ]
     },
     "execution_count": 24,
     "metadata": {},
     "output_type": "execute_result"
    }
   ],
   "source": [
    "2 * s"
   ]
  },
  {
   "cell_type": "code",
   "execution_count": 25,
   "id": "6d42e8f3-dd0f-42e1-a475-561ee536039d",
   "metadata": {},
   "outputs": [
    {
     "data": {
      "text/plain": [
       "[1, 2, 3, 4, 5, 6, 6, 7, 8, 9, 10, 11, 12]"
      ]
     },
     "execution_count": 25,
     "metadata": {},
     "output_type": "execute_result"
    }
   ],
   "source": [
    "s + t"
   ]
  },
  {
   "cell_type": "code",
   "execution_count": 35,
   "id": "72cee439-e993-4e31-a29c-a40640ceb49e",
   "metadata": {},
   "outputs": [
    {
     "data": {
      "text/plain": [
       "6"
      ]
     },
     "execution_count": 35,
     "metadata": {},
     "output_type": "execute_result"
    }
   ],
   "source": [
    "s[i]"
   ]
  },
  {
   "cell_type": "code",
   "execution_count": 34,
   "id": "4c330f69-99c7-4b25-a5e9-0294271b2aa5",
   "metadata": {},
   "outputs": [
    {
     "data": {
      "text/plain": [
       "[6, 7, 8, 9]"
      ]
     },
     "execution_count": 34,
     "metadata": {},
     "output_type": "execute_result"
    }
   ],
   "source": [
    "s[i:j]"
   ]
  },
  {
   "cell_type": "code",
   "execution_count": 36,
   "id": "a255ae2a-6d7c-45c8-8be8-ece9a01adb1f",
   "metadata": {},
   "outputs": [
    {
     "data": {
      "text/plain": [
       "[6, 8]"
      ]
     },
     "execution_count": 36,
     "metadata": {},
     "output_type": "execute_result"
    }
   ],
   "source": [
    "s[i:j:k]"
   ]
  },
  {
   "cell_type": "code",
   "execution_count": 7,
   "id": "cae16220-e030-45c1-a8f6-b1fc9606d9b8",
   "metadata": {},
   "outputs": [
    {
     "data": {
      "text/plain": [
       "[10, 8]"
      ]
     },
     "execution_count": 7,
     "metadata": {},
     "output_type": "execute_result"
    }
   ],
   "source": [
    "s[j:i:-k]"
   ]
  },
  {
   "cell_type": "code",
   "execution_count": 12,
   "id": "ff3280f1",
   "metadata": {},
   "outputs": [
    {
     "data": {
      "text/plain": [
       "[1, 3, 5, 6, 8, 10]"
      ]
     },
     "execution_count": 12,
     "metadata": {},
     "output_type": "execute_result"
    }
   ],
   "source": [
    "s[::k]"
   ]
  },
  {
   "cell_type": "code",
   "execution_count": 37,
   "id": "8f5b206a-1430-48b8-90c7-dd229c388479",
   "metadata": {},
   "outputs": [
    {
     "data": {
      "text/plain": [
       "11"
      ]
     },
     "execution_count": 37,
     "metadata": {},
     "output_type": "execute_result"
    }
   ],
   "source": [
    "len(s)"
   ]
  },
  {
   "cell_type": "code",
   "execution_count": 38,
   "id": "b1865664-c7c4-4257-bf97-184705d594a6",
   "metadata": {},
   "outputs": [
    {
     "data": {
      "text/plain": [
       "1"
      ]
     },
     "execution_count": 38,
     "metadata": {},
     "output_type": "execute_result"
    }
   ],
   "source": [
    "min(s)"
   ]
  },
  {
   "cell_type": "code",
   "execution_count": 39,
   "id": "0c0609b0-7a23-42d1-a17e-cb0de6f6ce74",
   "metadata": {},
   "outputs": [
    {
     "data": {
      "text/plain": [
       "10"
      ]
     },
     "execution_count": 39,
     "metadata": {},
     "output_type": "execute_result"
    }
   ],
   "source": [
    "max(s)"
   ]
  },
  {
   "cell_type": "code",
   "execution_count": 40,
   "id": "fc77d332-69c0-413d-820d-fb87c2e47ab7",
   "metadata": {},
   "outputs": [
    {
     "data": {
      "text/plain": [
       "5"
      ]
     },
     "execution_count": 40,
     "metadata": {},
     "output_type": "execute_result"
    }
   ],
   "source": [
    "s.index(x)"
   ]
  },
  {
   "cell_type": "code",
   "execution_count": 41,
   "id": "f2ea8109-cc3e-448b-a440-e3f95c8f2be9",
   "metadata": {},
   "outputs": [
    {
     "data": {
      "text/plain": [
       "6"
      ]
     },
     "execution_count": 41,
     "metadata": {},
     "output_type": "execute_result"
    }
   ],
   "source": [
    "s.index(x, i, j)"
   ]
  },
  {
   "cell_type": "code",
   "execution_count": 13,
   "id": "8932350f",
   "metadata": {},
   "outputs": [
    {
     "ename": "ValueError",
     "evalue": "13 is not in list",
     "output_type": "error",
     "traceback": [
      "\u001b[1;31m---------------------------------------------------------------------------\u001b[0m",
      "\u001b[1;31mValueError\u001b[0m                                Traceback (most recent call last)",
      "\u001b[1;32md:\\Tutorial\\python\\Built-InTypes.ipynb Cell 94\u001b[0m in \u001b[0;36m<cell line: 1>\u001b[1;34m()\u001b[0m\n\u001b[1;32m----> <a href='vscode-notebook-cell:/d%3A/Tutorial/python/Built-InTypes.ipynb#ch0000100?line=0'>1</a>\u001b[0m s\u001b[39m.\u001b[39;49mindex(\u001b[39m13\u001b[39;49m)\n",
      "\u001b[1;31mValueError\u001b[0m: 13 is not in list"
     ]
    }
   ],
   "source": [
    "s.index(13)"
   ]
  },
  {
   "cell_type": "code",
   "execution_count": 42,
   "id": "d37ad42f-f8b2-4b49-a98c-a4b92c36cacd",
   "metadata": {},
   "outputs": [
    {
     "data": {
      "text/plain": [
       "2"
      ]
     },
     "execution_count": 42,
     "metadata": {},
     "output_type": "execute_result"
    }
   ],
   "source": [
    "s.count(x)"
   ]
  },
  {
   "cell_type": "markdown",
   "id": "e6a9c1d8-523d-4175-b344-e3c471f9c272",
   "metadata": {},
   "source": [
    "## Immutable sequence"
   ]
  },
  {
   "cell_type": "markdown",
   "id": "53fcbea5",
   "metadata": {},
   "source": [
    "**The only operation that immutable sequence types generally implement that mutable sequence types is not is hash().\\\n",
    "Atemp to hash an immutable that contains unhashable values will result in `TypeError`.**"
   ]
  },
  {
   "cell_type": "markdown",
   "id": "a427dec1",
   "metadata": {},
   "source": [
    "## Mutable sequence"
   ]
  },
  {
   "cell_type": "markdown",
   "id": "01269096",
   "metadata": {},
   "source": [
    "**Method mute their members inplace and return the default `None`.**"
   ]
  },
  {
   "cell_type": "markdown",
   "id": "24ce5fcd",
   "metadata": {},
   "source": [
    "|Operation|Result|\n",
    "|:--------|:-----|\n",
    "|s[i] = x|*i*th item of s is replace with x|\n",
    "|s[i:j] = t|slice from i to j of s is replace by t|\n",
    "|s[i:j:k] = t|items of s[i:j:k] is replace by those of t|\n",
    "|del s[i:j:k]|same as s[i:j:k] = []|\n",
    "|s.append(x)|append x to the end of s<br>(same as s[len(s)] = x)|\n",
    "|s.clear()|remove all items(same as s = [])|\n",
    "|s.copy()|create a shallow copy of s<br>(same as s[:])|\n",
    "|s.extend(t) or s += t|extends s with the content of t<br>(same as s[len(s):len(s)] = t)|\n",
    "|s *= n|extends s with itself n times|\n",
    "|s.insert(i, x)|insert x to s at *i*th index<br>(same as s[i:i] = x))|\n",
    "|s.pop() or s.pop(i)|retrives the item at i and also remove it from s|\n",
    "|s.remove(x)|remove the first item from s where s[i] == x|\n"
   ]
  },
  {
   "cell_type": "code",
   "execution_count": 142,
   "id": "804b785c",
   "metadata": {},
   "outputs": [],
   "source": [
    "s = [i for i in range(1, 11)]\n",
    "t = [i for i in range(5, 10)]\n",
    "i = 4\n",
    "j = 10\n",
    "k = 2\n",
    "x = 7"
   ]
  },
  {
   "cell_type": "code",
   "execution_count": 143,
   "id": "10dd429c",
   "metadata": {},
   "outputs": [
    {
     "data": {
      "text/plain": [
       "[1, 2, 3, 4, 7, 6, 7, 8, 9, 10]"
      ]
     },
     "execution_count": 143,
     "metadata": {},
     "output_type": "execute_result"
    }
   ],
   "source": [
    "s[i] = 7\n",
    "s"
   ]
  },
  {
   "cell_type": "code",
   "execution_count": 144,
   "id": "93a14423",
   "metadata": {},
   "outputs": [
    {
     "data": {
      "text/plain": [
       "[1, 2, 3, 4, 5, 6, 7, 8, 9]"
      ]
     },
     "execution_count": 144,
     "metadata": {},
     "output_type": "execute_result"
    }
   ],
   "source": [
    "s[i:j] = t\n",
    "s"
   ]
  },
  {
   "cell_type": "code",
   "execution_count": 145,
   "id": "6752a540",
   "metadata": {},
   "outputs": [
    {
     "ename": "ValueError",
     "evalue": "attempt to assign sequence of size 5 to extended slice of size 3",
     "output_type": "error",
     "traceback": [
      "\u001b[1;31m---------------------------------------------------------------------------\u001b[0m",
      "\u001b[1;31mValueError\u001b[0m                                Traceback (most recent call last)",
      "\u001b[1;32md:\\Tutorial\\python\\Built-InTypes.ipynb Cell 102\u001b[0m in \u001b[0;36m<cell line: 1>\u001b[1;34m()\u001b[0m\n\u001b[1;32m----> <a href='vscode-notebook-cell:/d%3A/Tutorial/python/Built-InTypes.ipynb#ch0000108?line=0'>1</a>\u001b[0m s[i:j:k] \u001b[39m=\u001b[39m t\n\u001b[0;32m      <a href='vscode-notebook-cell:/d%3A/Tutorial/python/Built-InTypes.ipynb#ch0000108?line=1'>2</a>\u001b[0m s\n",
      "\u001b[1;31mValueError\u001b[0m: attempt to assign sequence of size 5 to extended slice of size 3"
     ]
    }
   ],
   "source": [
    "s[i:j:k] = t\n",
    "s"
   ]
  },
  {
   "cell_type": "markdown",
   "id": "d4529f00",
   "metadata": {},
   "source": [
    "\n",
    "**When assigning to extended slice, the list on right hand side must contain the same numbers of items as the slice.**"
   ]
  },
  {
   "cell_type": "code",
   "execution_count": 146,
   "id": "7cadafaa",
   "metadata": {},
   "outputs": [
    {
     "data": {
      "text/plain": [
       "[1, 2, 3, 4, 5, 6, 6, 8, 7]"
      ]
     },
     "execution_count": 146,
     "metadata": {},
     "output_type": "execute_result"
    }
   ],
   "source": [
    "s[i:j:k] = t[:-2]\n",
    "s"
   ]
  },
  {
   "cell_type": "code",
   "execution_count": 147,
   "id": "9fa466be",
   "metadata": {},
   "outputs": [
    {
     "data": {
      "text/plain": [
       "[1, 2, 3, 4, 6, 8]"
      ]
     },
     "execution_count": 147,
     "metadata": {},
     "output_type": "execute_result"
    }
   ],
   "source": [
    "del s[i:j:k]\n",
    "s"
   ]
  },
  {
   "cell_type": "code",
   "execution_count": 148,
   "id": "0fcc0b89",
   "metadata": {},
   "outputs": [
    {
     "data": {
      "text/plain": [
       "[1, 2, 3, 4, 6, 8, 7]"
      ]
     },
     "execution_count": 148,
     "metadata": {},
     "output_type": "execute_result"
    }
   ],
   "source": [
    "s.append(x)\n",
    "s"
   ]
  },
  {
   "cell_type": "code",
   "execution_count": 149,
   "id": "c9e6c522",
   "metadata": {},
   "outputs": [
    {
     "data": {
      "text/plain": [
       "[]"
      ]
     },
     "execution_count": 149,
     "metadata": {},
     "output_type": "execute_result"
    }
   ],
   "source": [
    "s.clear()\n",
    "s"
   ]
  },
  {
   "cell_type": "code",
   "execution_count": 150,
   "id": "d42c8002",
   "metadata": {},
   "outputs": [
    {
     "data": {
      "text/plain": [
       "[5, 6, 7, 8, 9]"
      ]
     },
     "execution_count": 150,
     "metadata": {},
     "output_type": "execute_result"
    }
   ],
   "source": [
    "s = t.copy()\n",
    "s"
   ]
  },
  {
   "cell_type": "code",
   "execution_count": 151,
   "id": "820f2ef3",
   "metadata": {},
   "outputs": [
    {
     "data": {
      "text/plain": [
       "[5, 6, 7, 8, 9, 5, 6, 7, 8, 9]"
      ]
     },
     "execution_count": 151,
     "metadata": {},
     "output_type": "execute_result"
    }
   ],
   "source": [
    "s.extend(t)\n",
    "s"
   ]
  },
  {
   "cell_type": "code",
   "execution_count": 152,
   "id": "0175896d",
   "metadata": {},
   "outputs": [
    {
     "data": {
      "text/plain": [
       "[5, 6, 7, 8, 9, 5, 6, 7, 8, 9, 5, 6, 7, 8, 9, 5, 6, 7, 8, 9]"
      ]
     },
     "execution_count": 152,
     "metadata": {},
     "output_type": "execute_result"
    }
   ],
   "source": [
    "s *= 2 \n",
    "s"
   ]
  },
  {
   "cell_type": "code",
   "execution_count": 153,
   "id": "c8211320",
   "metadata": {},
   "outputs": [
    {
     "name": "stdout",
     "output_type": "stream",
     "text": [
      "9\n"
     ]
    },
    {
     "data": {
      "text/plain": [
       "[5, 6, 7, 8, 9, 5, 6, 7, 8, 9, 5, 6, 7, 8, 9, 5, 6, 7, 8]"
      ]
     },
     "execution_count": 153,
     "metadata": {},
     "output_type": "execute_result"
    }
   ],
   "source": [
    "x = s.pop()\n",
    "print(x)\n",
    "s"
   ]
  },
  {
   "cell_type": "code",
   "execution_count": 154,
   "id": "ec093528",
   "metadata": {},
   "outputs": [
    {
     "data": {
      "text/plain": [
       "[5, 6, 7, 8, 9, 10, 5, 6, 7, 8, 9, 5, 6, 7, 8, 9, 5, 6, 7, 8]"
      ]
     },
     "execution_count": 154,
     "metadata": {},
     "output_type": "execute_result"
    }
   ],
   "source": [
    "s.insert(5, 10)\n",
    "s"
   ]
  },
  {
   "cell_type": "code",
   "execution_count": 155,
   "id": "6fe810ae",
   "metadata": {},
   "outputs": [
    {
     "data": {
      "text/plain": [
       "[5, 6, 7, 8, 9, 5, 6, 7, 8, 9, 5, 6, 7, 8, 9, 5, 6, 7, 8]"
      ]
     },
     "execution_count": 155,
     "metadata": {},
     "output_type": "execute_result"
    }
   ],
   "source": [
    "s.remove(10)\n",
    "s"
   ]
  },
  {
   "cell_type": "code",
   "execution_count": 156,
   "id": "a4ca5c34",
   "metadata": {},
   "outputs": [
    {
     "ename": "ValueError",
     "evalue": "list.remove(x): x not in list",
     "output_type": "error",
     "traceback": [
      "\u001b[1;31m---------------------------------------------------------------------------\u001b[0m",
      "\u001b[1;31mValueError\u001b[0m                                Traceback (most recent call last)",
      "\u001b[1;32md:\\Tutorial\\python\\Built-InTypes.ipynb Cell 114\u001b[0m in \u001b[0;36m<cell line: 1>\u001b[1;34m()\u001b[0m\n\u001b[1;32m----> <a href='vscode-notebook-cell:/d%3A/Tutorial/python/Built-InTypes.ipynb#ch0000124?line=0'>1</a>\u001b[0m s\u001b[39m.\u001b[39;49mremove(\u001b[39m11\u001b[39;49m)\n\u001b[0;32m      <a href='vscode-notebook-cell:/d%3A/Tutorial/python/Built-InTypes.ipynb#ch0000124?line=1'>2</a>\u001b[0m s\n",
      "\u001b[1;31mValueError\u001b[0m: list.remove(x): x not in list"
     ]
    }
   ],
   "source": [
    "s.remove(11)\n",
    "s"
   ]
  },
  {
   "cell_type": "code",
   "execution_count": 157,
   "id": "316f7e5d",
   "metadata": {},
   "outputs": [
    {
     "data": {
      "text/plain": [
       "[8, 7, 6, 5, 9, 8, 7, 6, 5, 9, 8, 7, 6, 5, 9, 8, 7, 6, 5]"
      ]
     },
     "execution_count": 157,
     "metadata": {},
     "output_type": "execute_result"
    }
   ],
   "source": [
    "s.reverse()\n",
    "s"
   ]
  }
 ],
 "metadata": {
  "kernelspec": {
   "display_name": "Python 3.10.5 ('.venv': venv)",
   "language": "python",
   "name": "python3"
  },
  "language_info": {
   "codemirror_mode": {
    "name": "ipython",
    "version": 3
   },
   "file_extension": ".py",
   "mimetype": "text/x-python",
   "name": "python",
   "nbconvert_exporter": "python",
   "pygments_lexer": "ipython3",
   "version": "3.10.5"
  },
  "vscode": {
   "interpreter": {
    "hash": "df0561bf8405ff835d73a74a3ead20097d119a045b00f9da2e72eadc5eb16e0e"
   }
  }
 },
 "nbformat": 4,
 "nbformat_minor": 5
}
