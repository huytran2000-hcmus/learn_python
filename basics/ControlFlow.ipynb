{
 "cells": [
  {
   "cell_type": "markdown",
   "id": "5ad9cde6",
   "metadata": {},
   "source": [
    "# if"
   ]
  },
  {
   "cell_type": "markdown",
   "id": "6030bb0d",
   "metadata": {},
   "source": [
    "```python\n",
    "if expression:\n",
    "    suite\n",
    "elif expression:\n",
    "    suite\n",
    "else: \n",
    "    suite\n",
    "```\n",
    "    "
   ]
  },
  {
   "cell_type": "markdown",
   "id": "1dba3107",
   "metadata": {},
   "source": [
    "It executes execute exactly one suite where the expression is first founded to be true.\\\n",
    "If all expression is False, the suite of `else` is executed.\\\n",
    "Can have multiple `elif` parts.\\\n",
    "`elif` and `else` is optional."
   ]
  },
  {
   "cell_type": "code",
   "execution_count": null,
   "id": "d80c10c0",
   "metadata": {},
   "outputs": [
    {
     "name": "stdout",
     "output_type": "stream",
     "text": [
      "One\n"
     ]
    }
   ],
   "source": [
    "x = 1\n",
    "\n",
    "if x < 0:\n",
    "    x = 0\n",
    "    print(\"Change to zero\")\n",
    "elif x == 0:\n",
    "    print(\"Zero\")\n",
    "elif x == 1:\n",
    "    print(\"One\")\n",
    "else:\n",
    "    print(\"Bigger than zero\")"
   ]
  },
  {
   "cell_type": "markdown",
   "id": "27b80eb6",
   "metadata": {},
   "source": [
    "# while"
   ]
  },
  {
   "cell_type": "markdown",
   "id": "392f12fa",
   "metadata": {},
   "source": [
    "```python\n",
    "while expression:\n",
    "    suite\n",
    "else:\n",
    "    suite\n",
    "```"
   ]
  },
  {
   "cell_type": "markdown",
   "id": "895275cb",
   "metadata": {},
   "source": [
    "As long as the expression is `True` the suite is keep get executed. When the expression is false, suite of `else` clause, if present, is executed. "
   ]
  },
  {
   "cell_type": "code",
   "execution_count": 3,
   "id": "5b816d25",
   "metadata": {},
   "outputs": [
    {
     "name": "stdout",
     "output_type": "stream",
     "text": [
      "0\n",
      "1\n",
      "2\n",
      "3\n",
      "4\n",
      "gay\n"
     ]
    }
   ],
   "source": [
    "i = 0\n",
    "while i is not None:\n",
    "    print(i)\n",
    "    i = i + 1\n",
    "    if i == 5:\n",
    "        i = None\n",
    "else: print(\"gay\")"
   ]
  },
  {
   "cell_type": "markdown",
   "id": "73a02b1a",
   "metadata": {},
   "source": [
    "# for"
   ]
  },
  {
   "cell_type": "markdown",
   "id": "a94d9389",
   "metadata": {},
   "source": [
    "```python\n",
    "for target_list in expression_list:\n",
    "    suite\n",
    "else: \n",
    "    suite\n",
    "```"
   ]
  },
  {
   "cell_type": "markdown",
   "id": "11d04cfd",
   "metadata": {},
   "source": [
    "The expression list is evaluated once; it should yield an iterable object. The suite is then get executed for each item provided by the iterator of the iterable. When the iterator are exhausted, the suite of else clause, if present, is executed."
   ]
  },
  {
   "cell_type": "code",
   "execution_count": 4,
   "id": "ad41cca5",
   "metadata": {},
   "outputs": [
    {
     "name": "stdout",
     "output_type": "stream",
     "text": [
      "0\n",
      "1\n",
      "2\n",
      "3\n",
      "4\n",
      "gay\n"
     ]
    }
   ],
   "source": [
    "for i in range(5):\n",
    "    print(i)\n",
    "else: print(\"gay\")"
   ]
  },
  {
   "cell_type": "markdown",
   "id": "0fc90902",
   "metadata": {},
   "source": [
    "The for-loop makes assignments to the varibles in the target list. This overwrites all previous assignments to those varibles. And those varibles still exists out side of for loop."
   ]
  },
  {
   "cell_type": "code",
   "execution_count": 3,
   "id": "f5a8b723",
   "metadata": {},
   "outputs": [
    {
     "data": {
      "text/plain": [
       "4"
      ]
     },
     "execution_count": 3,
     "metadata": {},
     "output_type": "execute_result"
    }
   ],
   "source": [
    "i"
   ]
  },
  {
   "cell_type": "markdown",
   "id": "b216fd86",
   "metadata": {},
   "source": [
    "# Looping techniques"
   ]
  },
  {
   "cell_type": "markdown",
   "id": "7ef9d9c9",
   "metadata": {},
   "source": [
    "When looping through a sequence, the position index and corresponding value can be retrieved at the same time using `enumerate()`"
   ]
  },
  {
   "cell_type": "code",
   "execution_count": 25,
   "id": "25f1c37c",
   "metadata": {},
   "outputs": [
    {
     "name": "stdout",
     "output_type": "stream",
     "text": [
      "0 You\n",
      "1 are\n",
      "2 gay\n"
     ]
    }
   ],
   "source": [
    "for i, v in enumerate([\"You\", \"are\", \"gay\"]):\n",
    "    print(i, v)\n"
   ]
  },
  {
   "cell_type": "markdown",
   "id": "0de9666f",
   "metadata": {},
   "source": [
    "To loop over two or more sequences at the same time, those sequences's entries can be paired up with `zip()`."
   ]
  },
  {
   "cell_type": "code",
   "execution_count": 28,
   "id": "b8100fb7",
   "metadata": {},
   "outputs": [
    {
     "name": "stdout",
     "output_type": "stream",
     "text": [
      "1 is one\n",
      "2 is two\n",
      "3 is three\n"
     ]
    }
   ],
   "source": [
    "numbers = [1, 2, 3]\n",
    "words = [\"one\", \"two\", \"three\"]\n",
    "\n",
    "for number, word in zip(numbers, words):\n",
    "    print(f\"{number} is {word}\")"
   ]
  },
  {
   "cell_type": "markdown",
   "id": "d7c304bf",
   "metadata": {},
   "source": [
    "When looping through dictionaries, the key and corresponding value can be retrieve at the same time using `dict.item()`."
   ]
  },
  {
   "cell_type": "code",
   "execution_count": 30,
   "id": "a6846bba",
   "metadata": {},
   "outputs": [
    {
     "name": "stdout",
     "output_type": "stream",
     "text": [
      "You are Gay\n",
      "Me are not gay\n"
     ]
    }
   ],
   "source": [
    "for k, v in {'You': 'Gay', 'Me': 'not gay'}.items():\n",
    "    print(f'{k} are {v}')"
   ]
  },
  {
   "cell_type": "markdown",
   "id": "a6129809",
   "metadata": {},
   "source": [
    "To loop through a sequence in reverse order, call `reverse()` on the sequence."
   ]
  },
  {
   "cell_type": "code",
   "execution_count": 31,
   "id": "8a234d21",
   "metadata": {},
   "outputs": [
    {
     "name": "stdout",
     "output_type": "stream",
     "text": [
      "9\n",
      "8\n",
      "7\n",
      "6\n",
      "5\n",
      "4\n",
      "3\n",
      "2\n",
      "1\n",
      "0\n"
     ]
    }
   ],
   "source": [
    "for i in reversed(range(10)):\n",
    "    print(i)"
   ]
  },
  {
   "cell_type": "markdown",
   "id": "49d9149e",
   "metadata": {},
   "source": [
    "To loop over an sequence in sorted order, use `sorted()` to get a new sorted list while leaving the source unmutate."
   ]
  },
  {
   "cell_type": "code",
   "execution_count": 33,
   "id": "06066115",
   "metadata": {},
   "outputs": [
    {
     "name": "stdout",
     "output_type": "stream",
     "text": [
      "apple\n",
      "apple\n",
      "banna\n",
      "banna\n",
      "orange\n",
      "orange\n"
     ]
    }
   ],
   "source": [
    "for fruit in sorted([\"apple\", \"orange\", \"banna\"] * 2):\n",
    "    print(fruit)"
   ]
  },
  {
   "cell_type": "markdown",
   "id": "fcf5d2b0",
   "metadata": {},
   "source": [
    "Use `set()` to loop through unique elements in sequence."
   ]
  },
  {
   "cell_type": "code",
   "execution_count": 34,
   "id": "cc38fbb4",
   "metadata": {},
   "outputs": [
    {
     "name": "stdout",
     "output_type": "stream",
     "text": [
      "apple\n",
      "banna\n",
      "orange\n"
     ]
    }
   ],
   "source": [
    "for fruit in set([\"apple\", \"orange\", \"banna\"] * 2):\n",
    "    print(fruit)"
   ]
  },
  {
   "cell_type": "markdown",
   "id": "7608df93",
   "metadata": {},
   "source": [
    "You shouldn't change a list while looping over it, it safe and easier to create a new list instead. "
   ]
  },
  {
   "cell_type": "code",
   "execution_count": 35,
   "id": "f45b7bbf",
   "metadata": {},
   "outputs": [
    {
     "name": "stdout",
     "output_type": "stream",
     "text": [
      "[0, 1, 2, 3, 4, 5, 6, 7, 8, 9]\n",
      "[0, 2, 4, 6, 8]\n"
     ]
    }
   ],
   "source": [
    "numbers = [i for i in range(10)]\n",
    "even_numbers =[]\n",
    "\n",
    "for number in numbers:\n",
    "    if number % 2 == 0:\n",
    "        even_numbers.append(number)\n",
    "\n",
    "print(numbers)\n",
    "print(even_numbers)"
   ]
  },
  {
   "cell_type": "markdown",
   "id": "3e806c71",
   "metadata": {},
   "source": [
    "# break and continue"
   ]
  },
  {
   "cell_type": "markdown",
   "id": "32f61095",
   "metadata": {},
   "source": [
    "`break` terminate the innermost enclosing loop(`for`, `while`).\\\n",
    "`continue` continues the next cycle of the innermost enclosing loop(`for`, `while`)."
   ]
  },
  {
   "cell_type": "code",
   "execution_count": 15,
   "id": "39af1401",
   "metadata": {},
   "outputs": [
    {
     "name": "stdout",
     "output_type": "stream",
     "text": [
      "0 is a prime number\n",
      "1 is a prime number\n",
      "2 is a prime number\n",
      "3 is a prime number\n",
      "5 is a prime number\n",
      "7 is a prime number\n"
     ]
    }
   ],
   "source": [
    "import math\n",
    "\n",
    "for number in range(0, 10):\n",
    "    if number == 0 or number == 1:\n",
    "        print(f\"{number} is a prime number\")\n",
    "        continue\n",
    "        \n",
    "    for divisor in range(2, int(math.sqrt(number)) + 1):\n",
    "        if number % divisor == 0:\n",
    "            break\n",
    "    else: print(f\"{number} is a prime number\")\n",
    "\n"
   ]
  },
  {
   "cell_type": "markdown",
   "id": "79cfcbeb",
   "metadata": {},
   "source": [
    "# pass"
   ]
  },
  {
   "cell_type": "markdown",
   "id": "90d7ee9b",
   "metadata": {},
   "source": [
    "`pass` does nothing.\\\n",
    "It a place holder when a state is required syntactically."
   ]
  },
  {
   "cell_type": "code",
   "execution_count": 16,
   "id": "24e2905c",
   "metadata": {},
   "outputs": [],
   "source": [
    "def do_something():\n",
    "    #Remember to implement this\n",
    "    pass"
   ]
  },
  {
   "cell_type": "markdown",
   "id": "c09d332e",
   "metadata": {},
   "source": [
    "# match"
   ]
  },
  {
   "cell_type": "markdown",
   "id": "def27590",
   "metadata": {},
   "source": [
    "```python\n",
    "match subject_expr:\n",
    "    case patern [guard]:\n",
    "        block\n",
    "    ...\n",
    "```"
   ]
  },
  {
   "cell_type": "markdown",
   "id": "b97d6d0e",
   "metadata": {},
   "source": [
    "`match` takes an expression and compare it value to successive pattern."
   ]
  },
  {
   "cell_type": "code",
   "execution_count": 18,
   "id": "3a933f4a",
   "metadata": {},
   "outputs": [],
   "source": [
    "def http_error(status):\n",
    "    match status:\n",
    "        case 400:\n",
    "            return \"Bad request\"\n",
    "        case 404:\n",
    "            return \"Not found\"\n",
    "        case _:\n",
    "            return \"Something went wrong\" "
   ]
  },
  {
   "cell_type": "code",
   "execution_count": 20,
   "id": "6a94a277",
   "metadata": {},
   "outputs": [
    {
     "data": {
      "text/plain": [
       "'Bad request'"
      ]
     },
     "execution_count": 20,
     "metadata": {},
     "output_type": "execute_result"
    }
   ],
   "source": [
    "http_error(400)"
   ]
  },
  {
   "cell_type": "code",
   "execution_count": 21,
   "id": "88a8faf1",
   "metadata": {},
   "outputs": [
    {
     "data": {
      "text/plain": [
       "'Not found'"
      ]
     },
     "execution_count": 21,
     "metadata": {},
     "output_type": "execute_result"
    }
   ],
   "source": [
    "http_error(404)"
   ]
  },
  {
   "cell_type": "code",
   "execution_count": 22,
   "id": "4851757d",
   "metadata": {},
   "outputs": [
    {
     "data": {
      "text/plain": [
       "'Something went wrong'"
      ]
     },
     "execution_count": 22,
     "metadata": {},
     "output_type": "execute_result"
    }
   ],
   "source": [
    "http_error(500)"
   ]
  },
  {
   "cell_type": "code",
   "execution_count": 23,
   "id": "32eb62e0",
   "metadata": {},
   "outputs": [
    {
     "name": "stdout",
     "output_type": "stream",
     "text": [
      "Origin\n",
      "Y=1\n",
      "X=1\n",
      "X=1 Y=1\n"
     ]
    },
    {
     "ename": "ValueError",
     "evalue": "Not a point",
     "output_type": "error",
     "traceback": [
      "\u001b[1;31m---------------------------------------------------------------------------\u001b[0m",
      "\u001b[1;31mValueError\u001b[0m                                Traceback (most recent call last)",
      "\u001b[1;32md:\\Tutorial\\python\\ControlFlow.ipynb Cell 28\u001b[0m in \u001b[0;36m<cell line: 3>\u001b[1;34m()\u001b[0m\n\u001b[0;32m      <a href='vscode-notebook-cell:/d%3A/Tutorial/python/ControlFlow.ipynb#ch0000033?line=0'>1</a>\u001b[0m points \u001b[39m=\u001b[39m [(\u001b[39m0\u001b[39m, \u001b[39m0\u001b[39m), (\u001b[39m0\u001b[39m, \u001b[39m1\u001b[39m), (\u001b[39m1\u001b[39m, \u001b[39m0\u001b[39m), (\u001b[39m1\u001b[39m, \u001b[39m1\u001b[39m), (\u001b[39m1\u001b[39m, \u001b[39m1\u001b[39m, \u001b[39m1\u001b[39m)]\n\u001b[0;32m      <a href='vscode-notebook-cell:/d%3A/Tutorial/python/ControlFlow.ipynb#ch0000033?line=2'>3</a>\u001b[0m \u001b[39mfor\u001b[39;00m point \u001b[39min\u001b[39;00m points:\n\u001b[0;32m      <a href='vscode-notebook-cell:/d%3A/Tutorial/python/ControlFlow.ipynb#ch0000033?line=3'>4</a>\u001b[0m     \u001b[39mmatch\u001b[39;00m point:\n\u001b[0;32m      <a href='vscode-notebook-cell:/d%3A/Tutorial/python/ControlFlow.ipynb#ch0000033?line=4'>5</a>\u001b[0m         \u001b[39mcase\u001b[39;00m (\u001b[39m0\u001b[39m, \u001b[39m0\u001b[39m):\n\u001b[0;32m      <a href='vscode-notebook-cell:/d%3A/Tutorial/python/ControlFlow.ipynb#ch0000033?line=5'>6</a>\u001b[0m             \u001b[39mprint\u001b[39m(\u001b[39m\"\u001b[39m\u001b[39mOrigin\u001b[39m\u001b[39m\"\u001b[39m)\n\u001b[0;32m      <a href='vscode-notebook-cell:/d%3A/Tutorial/python/ControlFlow.ipynb#ch0000033?line=6'>7</a>\u001b[0m         \u001b[39mcase\u001b[39;00m (\u001b[39m0\u001b[39m, y):\n\u001b[0;32m      <a href='vscode-notebook-cell:/d%3A/Tutorial/python/ControlFlow.ipynb#ch0000033?line=7'>8</a>\u001b[0m             \u001b[39mprint\u001b[39m(\u001b[39mf\u001b[39m\u001b[39m\"\u001b[39m\u001b[39mY=\u001b[39m\u001b[39m{\u001b[39;00my\u001b[39m}\u001b[39;00m\u001b[39m\"\u001b[39m)\n\u001b[0;32m      <a href='vscode-notebook-cell:/d%3A/Tutorial/python/ControlFlow.ipynb#ch0000033?line=8'>9</a>\u001b[0m         \u001b[39mcase\u001b[39;00m (x, \u001b[39m0\u001b[39m):\n\u001b[0;32m     <a href='vscode-notebook-cell:/d%3A/Tutorial/python/ControlFlow.ipynb#ch0000033?line=9'>10</a>\u001b[0m              \u001b[39mprint\u001b[39m(\u001b[39mf\u001b[39m\u001b[39m\"\u001b[39m\u001b[39mX=\u001b[39m\u001b[39m{\u001b[39;00mx\u001b[39m}\u001b[39;00m\u001b[39m\"\u001b[39m)\n\u001b[0;32m     <a href='vscode-notebook-cell:/d%3A/Tutorial/python/ControlFlow.ipynb#ch0000033?line=10'>11</a>\u001b[0m         \u001b[39mcase\u001b[39;00m (x, y):\n\u001b[0;32m     <a href='vscode-notebook-cell:/d%3A/Tutorial/python/ControlFlow.ipynb#ch0000033?line=11'>12</a>\u001b[0m             \u001b[39mprint\u001b[39m(\u001b[39mf\u001b[39m\u001b[39m\"\u001b[39m\u001b[39mX=\u001b[39m\u001b[39m{\u001b[39;00mx\u001b[39m}\u001b[39;00m\u001b[39m Y=\u001b[39m\u001b[39m{\u001b[39;00my\u001b[39m}\u001b[39;00m\u001b[39m\"\u001b[39m)\n\u001b[0;32m     <a href='vscode-notebook-cell:/d%3A/Tutorial/python/ControlFlow.ipynb#ch0000033?line=12'>13</a>\u001b[0m         \u001b[39mcase\u001b[39;00m \u001b[39m_\u001b[39;00m:\n\u001b[1;32m---> <a href='vscode-notebook-cell:/d%3A/Tutorial/python/ControlFlow.ipynb#ch0000033?line=13'>14</a>\u001b[0m             \u001b[39mraise\u001b[39;00m \u001b[39mValueError\u001b[39;00m(\u001b[39m\"\u001b[39m\u001b[39mNot a point\u001b[39m\u001b[39m\"\u001b[39m)\n",
      "\u001b[1;31mValueError\u001b[0m: Not a point"
     ]
    }
   ],
   "source": [
    "points = [(0, 0), (0, 1), (1, 0), (1, 1), (1, 1, 1)]\n",
    "\n",
    "for point in points:\n",
    "    match point:\n",
    "        case (0, 0):\n",
    "            print(\"Origin\")\n",
    "        case (0, y):\n",
    "            print(f\"Y={y}\")\n",
    "        case (x, 0):\n",
    "             print(f\"X={x}\")\n",
    "        case (x, y):\n",
    "            print(f\"X={x} Y={y}\")\n",
    "        case _:\n",
    "            raise ValueError(\"Not a point\")"
   ]
  }
 ],
 "metadata": {
  "kernelspec": {
   "display_name": "Python 3.10.5 ('.venv': venv)",
   "language": "python",
   "name": "python3"
  },
  "language_info": {
   "codemirror_mode": {
    "name": "ipython",
    "version": 3
   },
   "file_extension": ".py",
   "mimetype": "text/x-python",
   "name": "python",
   "nbconvert_exporter": "python",
   "pygments_lexer": "ipython3",
   "version": "3.10.5"
  },
  "vscode": {
   "interpreter": {
    "hash": "df0561bf8405ff835d73a74a3ead20097d119a045b00f9da2e72eadc5eb16e0e"
   }
  }
 },
 "nbformat": 4,
 "nbformat_minor": 5
}
