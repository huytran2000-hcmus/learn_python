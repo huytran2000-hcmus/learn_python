{
 "cells": [
  {
   "cell_type": "markdown",
   "id": "168f7161-cc22-4f2e-96ea-1aa5002aa1ab",
   "metadata": {},
   "source": [
    "# Interpreter"
   ]
  },
  {
   "cell_type": "markdown",
   "id": "f60729b6-8746-4403-bc30-ae60e6f2d638",
   "metadata": {},
   "source": [
    "## Installed location"
   ]
  },
  {
   "cell_type": "markdown",
   "id": "dfee1ba7-32f1-4e69-92a8-5e15fbd50505",
   "metadata": {},
   "source": [
    "**Window**\\\n",
    "C:\\Python[version]\\\n",
    "C:\\Users\\[user_name]\\AppData\\Local\\Programs\\Python\\Python36 \\\n",
    "**Unix**\\\n",
    "/user/local/bin/python[version] \\\n",
    "/user/local/python[version]"
   ]
  },
  {
   "cell_type": "markdown",
   "id": "b37617b5-b228-4150-ab0c-2a7a8f714110",
   "metadata": {},
   "source": [
    "## Command"
   ]
  },
  {
   "cell_type": "code",
   "execution_count": 2,
   "id": "d6641e54-0e10-4501-b1ca-e82ffd2da67b",
   "metadata": {},
   "outputs": [
    {
     "name": "stdout",
     "output_type": "stream",
     "text": [
      "gay\n"
     ]
    }
   ],
   "source": [
    "!python -c \"print('gay')\""
   ]
  },
  {
   "cell_type": "code",
   "execution_count": 17,
   "id": "268dc4db-b974-4cfd-8ba3-9eaff404ebd9",
   "metadata": {},
   "outputs": [
    {
     "name": "stdout",
     "output_type": "stream",
     "text": [
      "-c\n",
      "gay\n"
     ]
    }
   ],
   "source": [
    "!python -c \"import sys; [print(argv) for argv in sys.argv]\" \"gay\""
   ]
  },
  {
   "cell_type": "code",
   "execution_count": 18,
   "id": "bb4f46ee-179e-48b1-a9b4-9a462f9ac6bb",
   "metadata": {},
   "outputs": [
    {
     "name": "stdout",
     "output_type": "stream",
     "text": [
      "                                  2022\n",
      "\n",
      "      January                   February                   March\n",
      "Mo Tu We Th Fr Sa Su      Mo Tu We Th Fr Sa Su      Mo Tu We Th Fr Sa Su\n",
      "                1  2          1  2  3  4  5  6          1  2  3  4  5  6\n",
      " 3  4  5  6  7  8  9       7  8  9 10 11 12 13       7  8  9 10 11 12 13\n",
      "10 11 12 13 14 15 16      14 15 16 17 18 19 20      14 15 16 17 18 19 20\n",
      "17 18 19 20 21 22 23      21 22 23 24 25 26 27      21 22 23 24 25 26 27\n",
      "24 25 26 27 28 29 30      28                        28 29 30 31\n",
      "31\n",
      "\n",
      "       April                      May                       June\n",
      "Mo Tu We Th Fr Sa Su      Mo Tu We Th Fr Sa Su      Mo Tu We Th Fr Sa Su\n",
      "             1  2  3                         1             1  2  3  4  5\n",
      " 4  5  6  7  8  9 10       2  3  4  5  6  7  8       6  7  8  9 10 11 12\n",
      "11 12 13 14 15 16 17       9 10 11 12 13 14 15      13 14 15 16 17 18 19\n",
      "18 19 20 21 22 23 24      16 17 18 19 20 21 22      20 21 22 23 24 25 26\n",
      "25 26 27 28 29 30         23 24 25 26 27 28 29      27 28 29 30\n",
      "                          30 31\n",
      "\n",
      "        July                     August                  September\n",
      "Mo Tu We Th Fr Sa Su      Mo Tu We Th Fr Sa Su      Mo Tu We Th Fr Sa Su\n",
      "             1  2  3       1  2  3  4  5  6  7                1  2  3  4\n",
      " 4  5  6  7  8  9 10       8  9 10 11 12 13 14       5  6  7  8  9 10 11\n",
      "11 12 13 14 15 16 17      15 16 17 18 19 20 21      12 13 14 15 16 17 18\n",
      "18 19 20 21 22 23 24      22 23 24 25 26 27 28      19 20 21 22 23 24 25\n",
      "25 26 27 28 29 30 31      29 30 31                  26 27 28 29 30\n",
      "\n",
      "      October                   November                  December\n",
      "Mo Tu We Th Fr Sa Su      Mo Tu We Th Fr Sa Su      Mo Tu We Th Fr Sa Su\n",
      "                1  2          1  2  3  4  5  6                1  2  3  4\n",
      " 3  4  5  6  7  8  9       7  8  9 10 11 12 13       5  6  7  8  9 10 11\n",
      "10 11 12 13 14 15 16      14 15 16 17 18 19 20      12 13 14 15 16 17 18\n",
      "17 18 19 20 21 22 23      21 22 23 24 25 26 27      19 20 21 22 23 24 25\n",
      "24 25 26 27 28 29 30      28 29 30                  26 27 28 29 30 31\n",
      "31\n"
     ]
    }
   ],
   "source": [
    "!python -m calendar"
   ]
  },
  {
   "cell_type": "code",
   "execution_count": 21,
   "id": "7065ee6c-993e-4c11-a628-5255b7119565",
   "metadata": {},
   "outputs": [
    {
     "name": "stdout",
     "output_type": "stream",
     "text": [
      "                                  2016\n",
      "\n",
      "      January                   February                   March\n",
      "Mo Tu We Th Fr Sa Su      Mo Tu We Th Fr Sa Su      Mo Tu We Th Fr Sa Su\n",
      "             1  2  3       1  2  3  4  5  6  7          1  2  3  4  5  6\n",
      " 4  5  6  7  8  9 10       8  9 10 11 12 13 14       7  8  9 10 11 12 13\n",
      "11 12 13 14 15 16 17      15 16 17 18 19 20 21      14 15 16 17 18 19 20\n",
      "18 19 20 21 22 23 24      22 23 24 25 26 27 28      21 22 23 24 25 26 27\n",
      "25 26 27 28 29 30 31      29                        28 29 30 31\n",
      "\n",
      "       April                      May                       June\n",
      "Mo Tu We Th Fr Sa Su      Mo Tu We Th Fr Sa Su      Mo Tu We Th Fr Sa Su\n",
      "             1  2  3                         1             1  2  3  4  5\n",
      " 4  5  6  7  8  9 10       2  3  4  5  6  7  8       6  7  8  9 10 11 12\n",
      "11 12 13 14 15 16 17       9 10 11 12 13 14 15      13 14 15 16 17 18 19\n",
      "18 19 20 21 22 23 24      16 17 18 19 20 21 22      20 21 22 23 24 25 26\n",
      "25 26 27 28 29 30         23 24 25 26 27 28 29      27 28 29 30\n",
      "                          30 31\n",
      "\n",
      "        July                     August                  September\n",
      "Mo Tu We Th Fr Sa Su      Mo Tu We Th Fr Sa Su      Mo Tu We Th Fr Sa Su\n",
      "             1  2  3       1  2  3  4  5  6  7                1  2  3  4\n",
      " 4  5  6  7  8  9 10       8  9 10 11 12 13 14       5  6  7  8  9 10 11\n",
      "11 12 13 14 15 16 17      15 16 17 18 19 20 21      12 13 14 15 16 17 18\n",
      "18 19 20 21 22 23 24      22 23 24 25 26 27 28      19 20 21 22 23 24 25\n",
      "25 26 27 28 29 30 31      29 30 31                  26 27 28 29 30\n",
      "\n",
      "      October                   November                  December\n",
      "Mo Tu We Th Fr Sa Su      Mo Tu We Th Fr Sa Su      Mo Tu We Th Fr Sa Su\n",
      "                1  2          1  2  3  4  5  6                1  2  3  4\n",
      " 3  4  5  6  7  8  9       7  8  9 10 11 12 13       5  6  7  8  9 10 11\n",
      "10 11 12 13 14 15 16      14 15 16 17 18 19 20      12 13 14 15 16 17 18\n",
      "17 18 19 20 21 22 23      21 22 23 24 25 26 27      19 20 21 22 23 24 25\n",
      "24 25 26 27 28 29 30      28 29 30                  26 27 28 29 30 31\n",
      "31\n"
     ]
    }
   ],
   "source": [
    "!python -m calendar 2016"
   ]
  },
  {
   "cell_type": "markdown",
   "id": "f1e8b638-311c-4f57-810d-bc1e9cb456e3",
   "metadata": {},
   "source": [
    "# Enviroment"
   ]
  },
  {
   "cell_type": "markdown",
   "id": "fa9818b6-d2a5-4b46-bc69-bd0ac2d32f54",
   "metadata": {},
   "source": [
    "By default Python file are treated in UTF-8"
   ]
  },
  {
   "cell_type": "markdown",
   "id": "bb09c6de-4aa2-452f-ab5a-ce75cf72c265",
   "metadata": {},
   "source": [
    "To declare an encoding \\\n",
    "\\# -\\*- coding: encoding -\\*-"
   ]
  },
  {
   "cell_type": "markdown",
   "id": "6828a68e-63a2-4cae-936d-ac72ef42acb3",
   "metadata": {},
   "source": [
    "**Ex:** \\\n",
    "\\# -\\*- coding: cp1252 -\\*- "
   ]
  },
  {
   "cell_type": "markdown",
   "id": "e2a79be9-3280-4fc7-9744-e10cb5ebca08",
   "metadata": {},
   "source": [
    "To run python file like any other script under Linux add **shebang** line at start of the file \\\n",
    "\\#!file/path python-interpreter"
   ]
  },
  {
   "cell_type": "markdown",
   "id": "6dfa7132-26e5-4e27-bed2-4b5d3a6b3b63",
   "metadata": {},
   "source": [
    "**Ex:** \\\n",
    "\\#!/user/local/bin python3"
   ]
  },
  {
   "cell_type": "markdown",
   "id": "7760e7cc-21ca-46b2-90a4-c01f3a3c39c3",
   "metadata": {},
   "source": [
    "**shebang** line + encoding line\\\n",
    "#!/user/local/bin python\\\n",
    "\\# -\\*- coding: cp1252 -\\*-"
   ]
  }
 ],
 "metadata": {
  "kernelspec": {
   "display_name": "learning-python",
   "language": "python",
   "name": "learning-python"
  },
  "language_info": {
   "codemirror_mode": {
    "name": "ipython",
    "version": 3
   },
   "file_extension": ".py",
   "mimetype": "text/x-python",
   "name": "python",
   "nbconvert_exporter": "python",
   "pygments_lexer": "ipython3",
   "version": "3.10.5"
  }
 },
 "nbformat": 4,
 "nbformat_minor": 5
}
