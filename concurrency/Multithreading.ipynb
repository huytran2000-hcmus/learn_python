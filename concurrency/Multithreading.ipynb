{
 "cells": [
  {
   "cell_type": "markdown",
   "metadata": {},
   "source": [
    "# Threading"
   ]
  },
  {
   "cell_type": "code",
   "execution_count": 4,
   "metadata": {},
   "outputs": [
    {
     "name": "stdout",
     "output_type": "stream",
     "text": [
      "Starting a tast\n",
      "Done\n",
      "Starting a tast\n",
      "Done\n",
      "It's take 2.02 second(s) to completes all the tasks\n"
     ]
    }
   ],
   "source": [
    "from time import sleep, perf_counter\n",
    "\n",
    "def task():\n",
    "    print('Starting a tast')\n",
    "    sleep(1)\n",
    "    print('Done')\n",
    "\n",
    "start = perf_counter()\n",
    "task()\n",
    "task()\n",
    "end = perf_counter()\n",
    "print(f\"It's take {end - start:.2f} second(s) to completes all the tasks\")"
   ]
  },
  {
   "cell_type": "code",
   "execution_count": null,
   "metadata": {},
   "outputs": [],
   "source": []
  }
 ],
 "metadata": {
  "kernelspec": {
   "display_name": "Python 3.10.5 ('.venv': venv)",
   "language": "python",
   "name": "python3"
  },
  "language_info": {
   "codemirror_mode": {
    "name": "ipython",
    "version": 3
   },
   "file_extension": ".py",
   "mimetype": "text/x-python",
   "name": "python",
   "nbconvert_exporter": "python",
   "pygments_lexer": "ipython3",
   "version": "3.10.5"
  },
  "orig_nbformat": 4,
  "vscode": {
   "interpreter": {
    "hash": "f4cc3fd6211c08f2fbffc7f21494e2babf0f6e4823a46e482e17b88c97237f90"
   }
  }
 },
 "nbformat": 4,
 "nbformat_minor": 2
}
